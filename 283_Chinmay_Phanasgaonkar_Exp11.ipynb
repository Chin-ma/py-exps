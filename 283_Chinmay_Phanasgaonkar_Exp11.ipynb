{
 "cells": [
  {
   "cell_type": "markdown",
   "id": "502498f5",
   "metadata": {},
   "source": [
    "# Experiment 11\n",
    "## NumPy Array objects\n",
    "### a) Program comparing two numpy arrays"
   ]
  },
  {
   "cell_type": "code",
   "execution_count": 53,
   "id": "55726b89",
   "metadata": {},
   "outputs": [
    {
     "name": "stdout",
     "output_type": "stream",
     "text": [
      "a == b: [False False False  True]\n",
      "a > b: [False  True  True False]\n",
      "a <= b: [ True False False  True]\n"
     ]
    }
   ],
   "source": [
    "import numpy as np\n",
    "\n",
    "# comparing two arrays\n",
    "a = np.array([1, 2, 4, 7])\n",
    "b = np.array([6, 1, 3, 7])\n",
    "\n",
    "c = a == b\n",
    "print(\"a == b:\", c)\n",
    "\n",
    "c = a > b\n",
    "print(\"a > b:\", c)\n",
    "\n",
    "c = a <= b\n",
    "print(\"a <= b:\", c)"
   ]
  },
  {
   "cell_type": "code",
   "execution_count": 54,
   "id": "760ff09b",
   "metadata": {},
   "outputs": [
    {
     "name": "stdout",
     "output_type": "stream",
     "text": [
      "True\n",
      "False\n"
     ]
    }
   ],
   "source": [
    "# check for boolean values inside arrays\n",
    "c = a < b\n",
    "print(np.any(c))\n",
    "print(np.all(c))"
   ]
  },
  {
   "cell_type": "code",
   "execution_count": 55,
   "id": "b83730db",
   "metadata": {},
   "outputs": [
    {
     "name": "stdout",
     "output_type": "stream",
     "text": [
      "[1 2 4 7]\n",
      "0 < a < 4: [ True  True False False]\n",
      "a >= 0 or a == 1: [ True  True  True  True]\n",
      "not a: [False False False False]\n"
     ]
    }
   ],
   "source": [
    "# logical operations\n",
    "print(a)\n",
    "c = np.logical_and(a > 0, a < 4)\n",
    "print(\"0 < a < 4:\", c)\n",
    "\n",
    "c = np.logical_or(a >= 0, a == 1)\n",
    "print(\"a >= 0 or a == 1:\", c)\n",
    "\n",
    "c = np.logical_not(a)\n",
    "print(\"not a:\", c)"
   ]
  },
  {
   "cell_type": "markdown",
   "id": "41370034",
   "metadata": {},
   "source": [
    "### b) Program using numpy array attributes like ndim, shape, size, and reshape() and flatten() methods"
   ]
  },
  {
   "cell_type": "code",
   "execution_count": 56,
   "id": "5beb00bb",
   "metadata": {},
   "outputs": [
    {
     "name": "stdout",
     "output_type": "stream",
     "text": [
      "<class 'numpy.ndarray'>\n",
      "['23' '3.4' 'xyz' 'True']\n",
      "<U32\n"
     ]
    }
   ],
   "source": [
    "# numpy arrays of mixed types are not allowed\n",
    "x = np.array([23, 3.4, 'xyz', True])\n",
    "print(type(x))\n",
    "print(x)\n",
    "print(x.dtype)"
   ]
  },
  {
   "cell_type": "code",
   "execution_count": 57,
   "id": "2e963c59",
   "metadata": {},
   "outputs": [
    {
     "name": "stdout",
     "output_type": "stream",
     "text": [
      "[ 4  5  6  7  8  9 10 11 12 13 14 15 16 17]\n",
      "[5 7 9]\n"
     ]
    }
   ],
   "source": [
    "# slicing\n",
    "a = np.arange(4, 18)\n",
    "print(a)\n",
    "\n",
    "b = a[1:6:2]\n",
    "print(b)"
   ]
  },
  {
   "cell_type": "code",
   "execution_count": 58,
   "id": "27f3731f",
   "metadata": {},
   "outputs": [
    {
     "name": "stdout",
     "output_type": "stream",
     "text": [
      "[ 4  5  6  7  8  9 10 11 12 13 14 15 16 17]\n"
     ]
    }
   ],
   "source": [
    "b = a[::]\n",
    "print(b)"
   ]
  },
  {
   "cell_type": "code",
   "execution_count": 59,
   "id": "928b52c6",
   "metadata": {
    "scrolled": true
   },
   "outputs": [
    {
     "name": "stdout",
     "output_type": "stream",
     "text": [
      "[16 15 14 13 12 11 10  9  8  7]\n"
     ]
    }
   ],
   "source": [
    "b = a[-2:2:-1]\n",
    "print(b)"
   ]
  },
  {
   "cell_type": "code",
   "execution_count": 60,
   "id": "35ae501c",
   "metadata": {},
   "outputs": [
    {
     "name": "stdout",
     "output_type": "stream",
     "text": [
      "a: [ 4  5  6  7  8  9 10 11 12 13 14 15 16 17]\n",
      "a[0]:  4\n",
      "a[4]:  8\n",
      "a[-1]:  17\n",
      "a[-3]:  15\n"
     ]
    }
   ],
   "source": [
    "# indexing\n",
    "print(\"a:\", a)\n",
    "print(\"a[0]: \", a[0])\n",
    "print(\"a[4]: \", a[4])\n",
    "print(\"a[-1]: \", a[-1])\n",
    "print(\"a[-3]: \", a[-3])"
   ]
  },
  {
   "cell_type": "code",
   "execution_count": 61,
   "id": "161b4a9a",
   "metadata": {},
   "outputs": [
    {
     "name": "stdout",
     "output_type": "stream",
     "text": [
      "a:  [1 2 3 4]\n",
      "b:  [[1 2]\n",
      " [3 4]]\n",
      "c:  [[ 1  2]\n",
      " [ 7  8]\n",
      " [ 3  4]\n",
      " [ 9 11]]\n"
     ]
    }
   ],
   "source": [
    "# array dimensions\n",
    "a = np.array([1, 2, 3, 4])\n",
    "b = np.array([[1, 2], [3, 4]])\n",
    "c = np.array([[1, 2], [7, 8], [3, 4], [9, 11]])\n",
    "\n",
    "print(\"a: \", a)\n",
    "print(\"b: \", b)\n",
    "print(\"c: \", c)"
   ]
  },
  {
   "cell_type": "code",
   "execution_count": 62,
   "id": "59dc5d13",
   "metadata": {},
   "outputs": [
    {
     "name": "stdout",
     "output_type": "stream",
     "text": [
      "a.ndim:  1\n",
      "b.ndim:  2\n",
      "c.ndim:  2\n"
     ]
    }
   ],
   "source": [
    "# ndim\n",
    "# ndim denotes the rank of the array (e.g. 1D array, 2D array)\n",
    "\n",
    "print(\"a.ndim: \", a.ndim)\n",
    "print(\"b.ndim: \", b.ndim)\n",
    "print(\"c.ndim: \", c.ndim)"
   ]
  },
  {
   "cell_type": "code",
   "execution_count": 63,
   "id": "42b2b5a0",
   "metadata": {},
   "outputs": [
    {
     "name": "stdout",
     "output_type": "stream",
     "text": [
      "a.shape:  (4,)\n",
      "b.shape:  (2, 2)\n",
      "c.shape:  (4, 2)\n"
     ]
    }
   ],
   "source": [
    "# shape\n",
    "# shape denotes number of elements along each dimension\n",
    "\n",
    "print(\"a.shape: \", a.shape)\n",
    "print(\"b.shape: \", b.shape)\n",
    "print(\"c.shape: \", c.shape)"
   ]
  },
  {
   "cell_type": "code",
   "execution_count": 64,
   "id": "dc7aa031",
   "metadata": {},
   "outputs": [
    {
     "name": "stdout",
     "output_type": "stream",
     "text": [
      "a.size:  4\n",
      "b.size:  4\n",
      "c.size:  8\n"
     ]
    }
   ],
   "source": [
    "# size\n",
    "# size denotes the total number of elements in an array\n",
    "\n",
    "print(\"a.size: \", a.size)\n",
    "print(\"b.size: \", b.size)\n",
    "print(\"c.size: \", c.size)"
   ]
  },
  {
   "cell_type": "code",
   "execution_count": 65,
   "id": "8ef4090a",
   "metadata": {},
   "outputs": [
    {
     "name": "stdout",
     "output_type": "stream",
     "text": [
      "a.dtype int32\n",
      "[2.3 1.  5.6]\n",
      "float64\n"
     ]
    }
   ],
   "source": [
    "# dtype\n",
    "\n",
    "print(\"a.dtype\", a.dtype)\n",
    "\n",
    "d = np.array([2.3, 1, 5.6])\n",
    "print(d)\n",
    "print(d.dtype)"
   ]
  },
  {
   "cell_type": "code",
   "execution_count": 66,
   "id": "6a783177",
   "metadata": {},
   "outputs": [
    {
     "name": "stdout",
     "output_type": "stream",
     "text": [
      "[0 1 2 3 4 5 6 7 8 9]\n",
      "[[0 1 2 3 4]\n",
      " [5 6 7 8 9]]\n"
     ]
    }
   ],
   "source": [
    "# reshape() method\n",
    "arr1 = np.arange(10)\n",
    "print(arr1)\n",
    "\n",
    "arr1 = arr1.reshape(2, 5)\n",
    "print(arr1)"
   ]
  },
  {
   "cell_type": "code",
   "execution_count": 67,
   "id": "0ae95ccf",
   "metadata": {},
   "outputs": [
    {
     "name": "stdout",
     "output_type": "stream",
     "text": [
      "[[0 1]\n",
      " [2 3]\n",
      " [4 5]\n",
      " [6 7]\n",
      " [8 9]]\n"
     ]
    }
   ],
   "source": [
    "arr2 = arr1.reshape(5, 2)\n",
    "print(arr2)"
   ]
  },
  {
   "cell_type": "code",
   "execution_count": 68,
   "id": "2f80810c",
   "metadata": {},
   "outputs": [
    {
     "name": "stdout",
     "output_type": "stream",
     "text": [
      "cannot reshape array of size 10 into shape (5,3)\n"
     ]
    }
   ],
   "source": [
    "try:\n",
    "    arr2 = arr1.reshape(5, 3)\n",
    "except ValueError as e:\n",
    "    print(e)"
   ]
  },
  {
   "cell_type": "code",
   "execution_count": 69,
   "id": "dd0bf54e",
   "metadata": {},
   "outputs": [
    {
     "name": "stdout",
     "output_type": "stream",
     "text": [
      "[[0 1]\n",
      " [2 3]\n",
      " [4 5]\n",
      " [6 7]\n",
      " [8 9]]\n",
      "[0 1 2 3 4 5 6 7 8 9]\n"
     ]
    }
   ],
   "source": [
    "# flatten() method\n",
    "print(arr2)\n",
    "\n",
    "arr3 = arr2.flatten()\n",
    "print(arr3)"
   ]
  },
  {
   "cell_type": "code",
   "execution_count": 70,
   "id": "6dfa8438",
   "metadata": {},
   "outputs": [
    {
     "name": "stdout",
     "output_type": "stream",
     "text": [
      "[9 8 7 6 5 4 3 2 1 0]\n",
      "[0 1 2 3 4 5 6 7 8 9]\n"
     ]
    }
   ],
   "source": [
    "# sorting\n",
    "# descending order\n",
    "sorted_arr3 = np.sort(arr3)[::-1]\n",
    "print(sorted_arr3)\n",
    "#ascending order\n",
    "print(np.sort(sorted_arr3))"
   ]
  },
  {
   "cell_type": "markdown",
   "id": "477a4789",
   "metadata": {},
   "source": [
    "### c) Program to perform arithmetic operations (addition, subtraction, multiplication, division) on numpy arrays"
   ]
  },
  {
   "cell_type": "code",
   "execution_count": 71,
   "id": "3e6baf21",
   "metadata": {},
   "outputs": [
    {
     "name": "stdout",
     "output_type": "stream",
     "text": [
      "a: [0 1 2 3 4 5 6 7 8 9]\n",
      "b: [ 0  2  4  6  8 10 12 14 16 18]\n"
     ]
    }
   ],
   "source": [
    "# numpy arrays\n",
    "a = np.arange(10)\n",
    "b = np.arange(0, 20, 2)\n",
    "\n",
    "print(\"a:\", a)\n",
    "print(\"b:\", b)"
   ]
  },
  {
   "cell_type": "code",
   "execution_count": 72,
   "id": "c7f97192",
   "metadata": {},
   "outputs": [
    {
     "name": "stdout",
     "output_type": "stream",
     "text": [
      "[ 0  3  6  9 12 15 18 21 24 27]\n"
     ]
    }
   ],
   "source": [
    "c = a + b\n",
    "print(c)"
   ]
  },
  {
   "cell_type": "code",
   "execution_count": 73,
   "id": "bdee2381",
   "metadata": {},
   "outputs": [
    {
     "name": "stdout",
     "output_type": "stream",
     "text": [
      "[ 0 -1 -2 -3 -4 -5 -6 -7 -8 -9]\n"
     ]
    }
   ],
   "source": [
    "print(a - b)"
   ]
  },
  {
   "cell_type": "code",
   "execution_count": 74,
   "id": "5fde85f1",
   "metadata": {},
   "outputs": [
    {
     "name": "stdout",
     "output_type": "stream",
     "text": [
      "[nan 0.5 0.5 0.5 0.5 0.5 0.5 0.5 0.5 0.5]\n"
     ]
    },
    {
     "name": "stderr",
     "output_type": "stream",
     "text": [
      "c:\\users\\chinm\\appdata\\local\\programs\\python\\python37\\lib\\site-packages\\ipykernel_launcher.py:1: RuntimeWarning: invalid value encountered in true_divide\n",
      "  \"\"\"Entry point for launching an IPython kernel.\n"
     ]
    }
   ],
   "source": [
    "print(a / b)"
   ]
  },
  {
   "cell_type": "code",
   "execution_count": 75,
   "id": "b823f940",
   "metadata": {},
   "outputs": [
    {
     "name": "stdout",
     "output_type": "stream",
     "text": [
      "[  0   2   8  18  32  50  72  98 128 162]\n"
     ]
    }
   ],
   "source": [
    "print(a * b)"
   ]
  },
  {
   "cell_type": "code",
   "execution_count": 76,
   "id": "eb9e0273",
   "metadata": {},
   "outputs": [
    {
     "name": "stdout",
     "output_type": "stream",
     "text": [
      "m1: [[1 2]\n",
      " [3 4]]\n",
      "m2: [[2 5]\n",
      " [1 3]]\n"
     ]
    }
   ],
   "source": [
    "# 2D arrays\n",
    "m1 = np.array([[1,2],[3,4]])\n",
    "m2 = np.array([[2,5],[1,3]])\n",
    "\n",
    "print(\"m1:\", m1)\n",
    "print(\"m2:\", m2)"
   ]
  },
  {
   "cell_type": "code",
   "execution_count": 77,
   "id": "463fde08",
   "metadata": {},
   "outputs": [
    {
     "name": "stdout",
     "output_type": "stream",
     "text": [
      "[[3 7]\n",
      " [4 7]]\n"
     ]
    }
   ],
   "source": [
    "print(m1 + m2)"
   ]
  },
  {
   "cell_type": "code",
   "execution_count": 78,
   "id": "1bc610f1",
   "metadata": {},
   "outputs": [
    {
     "name": "stdout",
     "output_type": "stream",
     "text": [
      "[[-1 -3]\n",
      " [ 2  1]]\n"
     ]
    }
   ],
   "source": [
    "print(m1 - m2)"
   ]
  },
  {
   "cell_type": "code",
   "execution_count": 79,
   "id": "bd80e1be",
   "metadata": {},
   "outputs": [
    {
     "name": "stdout",
     "output_type": "stream",
     "text": [
      "[[0.5        0.4       ]\n",
      " [3.         1.33333333]]\n"
     ]
    }
   ],
   "source": [
    "print(m1 / m2)"
   ]
  },
  {
   "cell_type": "code",
   "execution_count": 80,
   "id": "7213c1d5",
   "metadata": {},
   "outputs": [
    {
     "name": "stdout",
     "output_type": "stream",
     "text": [
      "[[ 2 10]\n",
      " [ 3 12]]\n"
     ]
    }
   ],
   "source": [
    "print(m1 * m2)"
   ]
  }
 ],
 "metadata": {
  "kernelspec": {
   "display_name": "Python 3",
   "language": "python",
   "name": "python3"
  },
  "language_info": {
   "codemirror_mode": {
    "name": "ipython",
    "version": 3
   },
   "file_extension": ".py",
   "mimetype": "text/x-python",
   "name": "python",
   "nbconvert_exporter": "python",
   "pygments_lexer": "ipython3",
   "version": "3.7.5"
  }
 },
 "nbformat": 4,
 "nbformat_minor": 5
}
