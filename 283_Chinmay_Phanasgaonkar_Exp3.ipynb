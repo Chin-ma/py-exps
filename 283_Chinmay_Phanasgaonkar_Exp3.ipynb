{
 "cells": [
  {
   "cell_type": "markdown",
   "id": "db063a08-d227-4e1c-aeb8-7e7e6d4499d2",
   "metadata": {},
   "source": [
    "# Experiment 3\n",
    "## Exploring Files and directories\n",
    "\n",
    "### a) Write a Python program to append data to existing file and then display the entire file"
   ]
  },
  {
   "cell_type": "code",
   "execution_count": 4,
   "id": "d0eb4f16-5a99-460d-a5ba-706b7ef0bbe7",
   "metadata": {
    "id": "bA5ajAmk7XH6"
   },
   "outputs": [
    {
     "name": "stdout",
     "output_type": "stream",
     "text": [
      "Original contents\n",
      "Chess is a board game between two players. It is sometimes called international chess or Western chess to distinguish it from related games, such as xiangqi (Chinese chess) and shogi (Japanese chess). The recorded history of chess goes back at least to the emergence of a similar game, chaturanga, in seventh-century India. The rules of chess as we know them today emerged in Europe at the end of the 15th century, with standardization and universal acceptance by the end of the 19th century. Today, chess is one of the world's most popular games, played by millions of people worldwide.Carrom is a tabletop game of Indian origin in which players flick discs, attempting to knock them to the corners of the board. The game is very popular in the Indian subcontinent, and is known by various names in different languages. In South Asia, many clubs and cafés hold regular tournaments. Carrom is very commonly played by families, including children, and at social functions. Different standards and rules exist in different areas. It became very popular in the United Kingdom and the Commonwealth during the early 20th century\n",
      "\n",
      "\n",
      "Enter text to append: Carrom is a tabletop game of Indian origin in which players flick discs, attempting to knock them to the corners of the board. The game is very popular in the Indian subcontinent, and is known by various names in different languages. In South Asia, many clubs and cafés hold regular tournaments. Carrom is very commonly played by families, including children, and at social functions. Different standards and rules exist in different areas. It became very popular in the United Kingdom and the Commonwealth during the early 20th century\n",
      "\n",
      "\n",
      "\n",
      "\n",
      "File contents after modification:\n",
      "Chess is a board game between two players. It is sometimes called international chess or Western chess to distinguish it from related games, such as xiangqi (Chinese chess) and shogi (Japanese chess). The recorded history of chess goes back at least to the emergence of a similar game, chaturanga, in seventh-century India. The rules of chess as we know them today emerged in Europe at the end of the 15th century, with standardization and universal acceptance by the end of the 19th century. Today, chess is one of the world's most popular games, played by millions of people worldwide.Carrom is a tabletop game of Indian origin in which players flick discs, attempting to knock them to the corners of the board. The game is very popular in the Indian subcontinent, and is known by various names in different languages. In South Asia, many clubs and cafés hold regular tournaments. Carrom is very commonly played by families, including children, and at social functions. Different standards and rules exist in different areas. It became very popular in the United Kingdom and the Commonwealth during the early 20th centuryCarrom is a tabletop game of Indian origin in which players flick discs, attempting to knock them to the corners of the board. The game is very popular in the Indian subcontinent, and is known by various names in different languages. In South Asia, many clubs and cafés hold regular tournaments. Carrom is very commonly played by families, including children, and at social functions. Different standards and rules exist in different areas. It became very popular in the United Kingdom and the Commonwealth during the early 20th century\n"
     ]
    }
   ],
   "source": [
    "# display original file contents\n",
    "filename = \"someFile.txt\"\n",
    "f = open(filename, 'a+') # open in append mode\n",
    "f.seek(0, 0)\n",
    "print(\"Original contents\")\n",
    "print(f.read())\n",
    "print(\"\\n\")\n",
    "\n",
    "# reset file pojnter\n",
    "f.seek(0, 0)\n",
    "\n",
    "# append data\n",
    "add_contents = input(\"Enter text to append: \")\n",
    "print(\"\\n\")\n",
    "f.write(add_contents)\n",
    "\n",
    "f.seek(0, 0)\n",
    "print(\"\\n\")\n",
    "print(\"File contents after modification:\")\n",
    "print(f.read())\n",
    "\n",
    "f.close()"
   ]
  },
  {
   "cell_type": "markdown",
   "id": "4af1292a-9b98-4749-a704-83efdcb092c2",
   "metadata": {},
   "source": [
    "### b) Write a Python program to count number of lines, words and characters in a file."
   ]
  },
  {
   "cell_type": "code",
   "execution_count": 7,
   "id": "3732a3f5-0cd6-499f-aba2-dcb7030e946c",
   "metadata": {},
   "outputs": [
    {
     "name": "stdout",
     "output_type": "stream",
     "text": [
      "line count:  5\n",
      "word count:  88\n",
      "character count:  540\n"
     ]
    }
   ],
   "source": [
    "filename = \"someFile.txt\"\n",
    "\n",
    "# init count\n",
    "lines = 0\n",
    "words = 0\n",
    "characters = 0\n",
    "\n",
    "# read file one line at a time\n",
    "with open(filename, 'r') as f:\n",
    "    for line in f:\n",
    "        splits = line.split()\n",
    "        lines += 1\n",
    "        words += len(splits)\n",
    "        characters += len(line)\n",
    "\n",
    "print(\"line count: \", lines)\n",
    "print(\"word count: \", words)\n",
    "print(\"character count: \", characters)"
   ]
  },
  {
   "cell_type": "markdown",
   "id": "3cd25038-ece1-4a63-80c3-81f41bb8b7a4",
   "metadata": {},
   "source": [
    "### c) Write a Python program to display files available in current directory"
   ]
  },
  {
   "cell_type": "code",
   "execution_count": 10,
   "id": "b0e0464e-896e-40ce-b9cb-533b7e7b770e",
   "metadata": {
    "executionTime": 125,
    "lastSuccessfullyExecutedCode": "import os\n\n# os.system('ls') by directly executing system command (OS specific)\n\n# display all\nlst = os.listdir()\nprint(lst)\n\n# display only files\nlst = os.listdir()\nlst = [f for f in lst if os.path.isfile(f)]\nprint(lst)"
   },
   "outputs": [
    {
     "name": "stdout",
     "output_type": "stream",
     "text": [
      "['.git', '.ipynb_checkpoints', '283_Chinmay_Phanasgaonkar_Exp1.ipynb', '283_Chinmay_Phanasgaonkar_Exp2.ipynb', '283_Chinmay_Phanasgaonkar_Exp3.ipynb', 'altcodeInheri.txt', 'someFile.txt']\n",
      "['283_Chinmay_Phanasgaonkar_Exp1.ipynb', '283_Chinmay_Phanasgaonkar_Exp2.ipynb', '283_Chinmay_Phanasgaonkar_Exp3.ipynb', 'altcodeInheri.txt', 'someFile.txt']\n"
     ]
    }
   ],
   "source": [
    "import os\n",
    "\n",
    "# os.system('ls') by directly executing system command (OS specific)\n",
    "\n",
    "# display all\n",
    "print(os.listdir())\n",
    "\n",
    "# display only files\n",
    "# lst = os.listdir()\n",
    "# lst = [f for f in lst if os.path.isfile(f)] # list comprehension\n",
    "# print(lst)\n",
    "\n",
    "# # alternatively can be simplified as\n",
    "lst = os.listdir()\n",
    "filelist = []\n",
    "for f in lst:\n",
    "    if os.path.isfile(f):\n",
    "        filelist.append(f)\n",
    "print(filelist)"
   ]
  },
  {
   "cell_type": "code",
   "execution_count": null,
   "id": "5c3ae3b4",
   "metadata": {},
   "outputs": [],
   "source": []
  }
 ],
 "metadata": {
  "colab": {
   "name": "Welcome to DataCamp Workspaces.ipynb",
   "provenance": []
  },
  "kernelspec": {
   "display_name": "Python 3 (ipykernel)",
   "language": "python",
   "name": "python3"
  },
  "language_info": {
   "codemirror_mode": {
    "name": "ipython",
    "version": 3
   },
   "file_extension": ".py",
   "mimetype": "text/x-python",
   "name": "python",
   "nbconvert_exporter": "python",
   "pygments_lexer": "ipython3",
   "version": "3.9.13"
  }
 },
 "nbformat": 4,
 "nbformat_minor": 5
}
