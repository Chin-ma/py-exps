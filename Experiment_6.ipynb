{
 "cells": [
  {
   "attachments": {},
   "cell_type": "markdown",
   "id": "297cb549",
   "metadata": {},
   "source": [
    "# Experiment 6\n",
    "## Database connectivity in Python\n",
    "\n",
    "### a) Write python code to perform CRUD (create, read, update and delete) operations on a database"
   ]
  },
  {
   "cell_type": "code",
   "execution_count": 1,
   "id": "1736120b",
   "metadata": {},
   "outputs": [],
   "source": [
    "import sqlalchemy as db\n",
    "\n",
    "def db_connect(server, user, passwd, dbname):\n",
    "    \"\"\"Connect to the DB and return the engine and connection objects\"\"\"\n",
    "    try:\n",
    "        engine = db.create_engine(\"mysql+pymysql://{user}:{pwd}@{host}/{dbname}\".format(user=user, pwd=passwd, host=server, dbname=dbname))\n",
    "        conn = engine.connect()\n",
    "    except:\n",
    "        print(\"Couldn't connect to the database\")\n",
    "        return None\n",
    "    return engine, conn\n",
    "\n",
    "def get_table(engine, metadata, tablename):\n",
    "    \"\"\"Get the specified table object\"\"\"\n",
    "    # Reflect table from the engine\n",
    "    return db.Table(tablename, metadata, autoload=True, autoload_with=engine)\n",
    "\n",
    "def display_table_records(engine, table, size = None):\n",
    "    \"\"\"Display records of the specified table\"\"\"\n",
    "    stmt = db.select(table)\n",
    "    print(stmt)\n",
    "    if size == None:\n",
    "        results = engine.execute(stmt).fetchall()\n",
    "    else:\n",
    "        results = engine.execute(stmt).fetchmany(size=size)\n",
    "    \n",
    "    if len(results) == 0:\n",
    "        print(\"Table is empty\")\n",
    "    else:\n",
    "        print(table.columns.keys())\n",
    "        for record in results:\n",
    "            print(record)\n",
    "\n",
    "def truncate_table(engine, table):\n",
    "    stmt = db.delete(table)\n",
    "    engine.execute(stmt)"
   ]
  },
  {
   "cell_type": "code",
   "execution_count": 2,
   "id": "7e208d4e",
   "metadata": {},
   "outputs": [
    {
     "name": "stdout",
     "output_type": "stream",
     "text": [
      "<class 'sqlalchemy.engine.base.Engine'>\n",
      "<class 'sqlalchemy.engine.base.Connection'>\n",
      "['emp_no', 'birth_date', 'first_name', 'last_name', 'gender', 'hire_date']\n",
      "<class 'sqlalchemy.sql.schema.Table'>\n"
     ]
    }
   ],
   "source": [
    "\n",
    "# connect to the DB\n",
    "engine, conn = db_connect(server = \"localhost:3306\", user = \"root\", passwd = \"\", dbname = \"Employees\")\n",
    "print(type(engine))\n",
    "print(type(conn))\n",
    "\n",
    "# Create a metadata object\n",
    "metadata = db.MetaData()\n",
    "\n",
    "# employees table\n",
    "employees = get_table(engine, metadata, 'employees')\n",
    "print(employees.columns.keys())\n",
    "print(type(employees))\n",
    "truncate_table(engine, employees)"
   ]
  },
  {
   "cell_type": "code",
   "execution_count": 3,
   "id": "bbeca672",
   "metadata": {},
   "outputs": [
    {
     "name": "stdout",
     "output_type": "stream",
     "text": [
      "SELECT employees.emp_no, employees.birth_date, employees.first_name, employees.last_name, employees.gender, employees.hire_date \n",
      "FROM employees\n",
      "Table is empty\n",
      "<class 'sqlalchemy.sql.dml.Insert'>\n",
      "INSERT INTO employees (emp_no, birth_date, first_name, last_name, gender, hire_date) VALUES (:emp_no, :birth_date, :first_name, :last_name, :gender, :hire_date)\n",
      "SELECT employees.emp_no, employees.birth_date, employees.first_name, employees.last_name, employees.gender, employees.hire_date \n",
      "FROM employees\n",
      "['emp_no', 'birth_date', 'first_name', 'last_name', 'gender', 'hire_date']\n",
      "(1001, datetime.date(1985, 10, 12), 'John', 'Doe', 'M', datetime.date(2015, 9, 1))\n",
      "SELECT employees.emp_no, employees.birth_date, employees.first_name, employees.last_name, employees.gender, employees.hire_date \n",
      "FROM employees\n",
      "['emp_no', 'birth_date', 'first_name', 'last_name', 'gender', 'hire_date']\n",
      "(1001, datetime.date(1985, 10, 12), 'John', 'Doe', 'M', datetime.date(2015, 9, 1))\n",
      "(1002, datetime.date(2001, 11, 23), 'Jane', 'Doe', 'F', datetime.date(2020, 3, 1))\n"
     ]
    }
   ],
   "source": [
    "# insert\n",
    "display_table_records(engine, employees)\n",
    "\n",
    "ins = employees.insert().values({'emp_no':1001, 'birth_date':'19851012', 'first_name':'John', 'last_name':'Doe', 'gender':'M', 'hire_date':'20150901'})\n",
    "print(type(ins))\n",
    "print(str(ins))\n",
    "\n",
    "try:\n",
    "    engine.execute(ins)\n",
    "except BaseException as e:\n",
    "    print(\"Error: \", e)\n",
    "\n",
    "display_table_records(engine, employees)\n",
    "\n",
    "rec2 = {'emp_no':1002,\n",
    "        'birth_date':'20011123',\n",
    "        'first_name':'Jane',\n",
    "        'last_name':'Doe',\n",
    "        'gender':'F',\n",
    "        'hire_date':'20200301'\n",
    "       }\n",
    "ins = employees.insert().values(rec2)\n",
    "try:\n",
    "    engine.execute(ins)\n",
    "except BaseException as e:\n",
    "    print(\"Error: \", e)\n",
    "\n",
    "display_table_records(engine, employees)\n"
   ]
  },
  {
   "cell_type": "code",
   "execution_count": 4,
   "id": "353f00f7",
   "metadata": {},
   "outputs": [],
   "source": [
    "# insert multiple records\n",
    "value_list = [\n",
    "    {'emp_no':1003, 'birth_date':'19760114', 'first_name':'Bruce', 'last_name':'Wayne', 'gender':'M', 'hire_date':'20000304'},\n",
    "    {'emp_no':1004, 'birth_date':'19541024', 'first_name':'Alfred', 'last_name':'Pennyworth', 'gender':'M', 'hire_date':'20000304'},\n",
    "    {'emp_no':1005, 'birth_date':'19871101', 'first_name':'Barbara', 'last_name':'Gordon', 'gender':'F', 'hire_date':'20120711'}\n",
    "]\n",
    "\n",
    "ins = db.insert(employees)\n",
    "\n",
    "try:\n",
    "    results = engine.execute(ins, value_list)\n",
    "except BaseException as e:\n",
    "    print(\"Error: \", e)\n"
   ]
  },
  {
   "cell_type": "code",
   "execution_count": 5,
   "id": "8c4a1736",
   "metadata": {},
   "outputs": [
    {
     "name": "stdout",
     "output_type": "stream",
     "text": [
      "SELECT employees.emp_no, employees.birth_date, employees.first_name, employees.last_name, employees.gender, employees.hire_date \n",
      "FROM employees\n",
      "['emp_no', 'birth_date', 'first_name', 'last_name', 'gender', 'hire_date']\n",
      "(1001, datetime.date(1985, 10, 12), 'John', 'Doe', 'M', datetime.date(2015, 9, 1))\n",
      "(1002, datetime.date(2001, 11, 23), 'Jane', 'Doe', 'F', datetime.date(2020, 3, 1))\n",
      "(1003, datetime.date(1976, 1, 14), 'Bruce', 'Wayne', 'M', datetime.date(2000, 3, 4))\n",
      "(1004, datetime.date(1954, 10, 24), 'Alfred', 'Pennyworth', 'M', datetime.date(2000, 3, 4))\n",
      "(1005, datetime.date(1987, 11, 1), 'Barbara', 'Gordon', 'F', datetime.date(2012, 7, 11))\n"
     ]
    }
   ],
   "source": [
    "# select\n",
    "display_table_records(engine, employees)"
   ]
  },
  {
   "cell_type": "code",
   "execution_count": 6,
   "id": "f9d0f7c9",
   "metadata": {},
   "outputs": [
    {
     "name": "stdout",
     "output_type": "stream",
     "text": [
      "(1002, datetime.date(2001, 11, 23), 'Jane', 'Doe', 'F', datetime.date(2020, 3, 1))\n",
      "(1005, datetime.date(1987, 11, 1), 'Barbara', 'Gordon', 'F', datetime.date(2012, 7, 11))\n"
     ]
    }
   ],
   "source": [
    "# select with where clause\n",
    "stmt = db.select(employees).where(employees.columns.gender == 'F')\n",
    "results = engine.execute(stmt).fetchall()\n",
    "for record in results:\n",
    "    print(record)\n"
   ]
  },
  {
   "cell_type": "code",
   "execution_count": 7,
   "id": "8bb660f7",
   "metadata": {},
   "outputs": [
    {
     "name": "stdout",
     "output_type": "stream",
     "text": [
      "(1002, datetime.date(2001, 11, 23), 'Jane', 'Doe', 'F', datetime.date(2020, 3, 1))\n"
     ]
    }
   ],
   "source": [
    "stmt = db.select(employees).where(db.and_(employees.columns.gender == 'F',\n",
    "                                      employees.columns.last_name == 'Doe'))\n",
    "results = engine.execute(stmt).fetchall()\n",
    "for record in results:\n",
    "    print(record)\n"
   ]
  },
  {
   "cell_type": "code",
   "execution_count": 8,
   "id": "9e7525ab",
   "metadata": {},
   "outputs": [
    {
     "name": "stdout",
     "output_type": "stream",
     "text": [
      "SELECT employees.emp_no, employees.birth_date, employees.first_name, employees.last_name, employees.gender, employees.hire_date \n",
      "FROM employees\n",
      "['emp_no', 'birth_date', 'first_name', 'last_name', 'gender', 'hire_date']\n",
      "(1001, datetime.date(1985, 10, 12), 'John', 'Doe', 'M', datetime.date(2015, 9, 1))\n",
      "(1002, datetime.date(2001, 5, 4), 'Jane', 'Doe', 'F', datetime.date(2020, 3, 1))\n",
      "(1003, datetime.date(1976, 1, 14), 'Bruce', 'Wayne', 'M', datetime.date(2000, 3, 4))\n",
      "(1004, datetime.date(1954, 10, 24), 'Alfred', 'Pennyworth', 'M', datetime.date(2000, 3, 4))\n",
      "(1005, datetime.date(1987, 11, 1), 'Barbara', 'Gordon', 'F', datetime.date(2012, 7, 11))\n"
     ]
    }
   ],
   "source": [
    "# update\n",
    "stmt = db.update(employees).values(birth_date = '20010504')\n",
    "stmt = stmt.where(employees.columns.emp_no == 1002)\n",
    "\n",
    "try:\n",
    "    results = engine.execute(stmt)\n",
    "except BaseException as e:\n",
    "    print(\"Error: \", e)\n",
    "\n",
    "display_table_records(engine, employees)\n"
   ]
  },
  {
   "cell_type": "code",
   "execution_count": 34,
   "id": "63c4e47b",
   "metadata": {},
   "outputs": [
    {
     "name": "stdout",
     "output_type": "stream",
     "text": [
      "1\n",
      "SELECT employees.emp_no, employees.birth_date, employees.first_name, employees.last_name, employees.gender, employees.hire_date \n",
      "FROM employees\n",
      "['emp_no', 'birth_date', 'first_name', 'last_name', 'gender', 'hire_date']\n",
      "(1001, datetime.date(1985, 10, 12), 'John', 'Doe', 'M', datetime.date(2015, 9, 1))\n",
      "(1002, datetime.date(2001, 5, 4), 'Jane', 'Doe', 'F', datetime.date(2020, 3, 1))\n",
      "(1003, datetime.date(1976, 1, 14), 'Bruce', 'Wayne', 'M', datetime.date(2000, 3, 4))\n",
      "(1005, datetime.date(1987, 11, 1), 'Barbara', 'Gordon', 'F', datetime.date(2012, 7, 11))\n"
     ]
    }
   ],
   "source": [
    "# delete\n",
    "stmt = db.delete(employees).where(\n",
    "    db.and_(employees.columns.first_name == 'Alfred',\n",
    "        employees.columns.gender == 'M'))\n",
    "results = engine.execute(stmt)\n",
    "\n",
    "print(results.rowcount)\n",
    "display_table_records(engine, employees)\n",
    "\n",
    "\n",
    "conn.close()"
   ]
  },
  {
   "cell_type": "code",
   "execution_count": null,
   "id": "21002de9",
   "metadata": {},
   "outputs": [],
   "source": []
  }
 ],
 "metadata": {
  "kernelspec": {
   "display_name": "python_test",
   "language": "python",
   "name": "python3"
  },
  "language_info": {
   "codemirror_mode": {
    "name": "ipython",
    "version": 3
   },
   "file_extension": ".py",
   "mimetype": "text/x-python",
   "name": "python",
   "nbconvert_exporter": "python",
   "pygments_lexer": "ipython3",
   "version": "3.10.8"
  },
  "vscode": {
   "interpreter": {
    "hash": "be3f950095f4846377a17d42d86eb579248805da66f6e1685f87cbc8aeffb3a6"
   }
  }
 },
 "nbformat": 4,
 "nbformat_minor": 5
}
