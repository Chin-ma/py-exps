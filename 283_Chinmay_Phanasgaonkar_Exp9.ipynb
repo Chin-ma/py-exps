{
  "cells": [
    {
      "cell_type": "markdown",
      "id": "bbb4c098",
      "metadata": {
        "id": "bbb4c098"
      },
      "source": [
        "# Experiment 9\n",
        "\n",
        "# Program on Threading using Python"
      ]
    },
    {
      "cell_type": "markdown",
      "id": "ed62fec9",
      "metadata": {
        "id": "ed62fec9"
      },
      "source": [
        "## a) Write a python program that performs two tasks simultaneously"
      ]
    },
    {
      "cell_type": "code",
      "execution_count": 1,
      "id": "bc251e03",
      "metadata": {
        "colab": {
          "base_uri": "https://localhost:8080/"
        },
        "id": "bc251e03",
        "outputId": "a2f4e7fc-b903-4069-a17c-00a0ab226680"
      },
      "outputs": [
        {
          "name": "stdout",
          "output_type": "stream",
          "text": [
            "Starting Thread: Chinmay\n",
            "Starting Thread: Yash\n",
            "Starting Thread: Someone\n",
            "Chinmay -----> 1682090689.7934635\n",
            "Yash -----> 1682090691.819792\n",
            "Chinmay -----> 1682090692.8106403\n",
            "Someone -----> 1682090692.8438509\n",
            "Chinmay -----> 1682090695.8137426\n",
            "Yash -----> 1682090696.827777\n",
            "Chinmay -----> 1682090698.8283913\n",
            "Execution of Thread Chinmay is completed.\n",
            "Someone -----> 1682090698.86155\n",
            "Yash -----> 1682090701.8437102\n",
            "Someone -----> 1682090704.8705988\n",
            "Yash -----> 1682090706.8463528\n",
            "Execution of Thread Yash is completed.\n",
            "Someone -----> 1682090710.8804097\n",
            "Execution of Thread Someone is completed.\n"
          ]
        }
      ],
      "source": [
        "from threading import Thread\n",
        "import time as t\n",
        "\n",
        "def thread_delay(thread_name, delay):\n",
        "    count = 0\n",
        "    while count < 4:\n",
        "        t.sleep(delay)\n",
        "        print(thread_name, \"----->\", t.time())\n",
        "        count += 1\n",
        "        \n",
        "class MyClass(Thread):\n",
        "    def __init__(self, name, delay):\n",
        "        Thread.__init__(self)\n",
        "        self.name = name\n",
        "        self.delay = delay\n",
        "        \n",
        "    def run(self):\n",
        "        print(\"Starting Thread:\", self.name)\n",
        "        thread_delay(self.name, self.delay)\n",
        "        print(\"Execution of Thread\", self.name, \"is completed.\")\n",
        "        \n",
        "t1 = MyClass('Chinmay', 3)\n",
        "t2 = MyClass('Yash', 5)\n",
        "t3 = MyClass('Someone', 6)\n",
        "\n",
        "t1.start()\n",
        "t2.start()\n",
        "t3.start()\n",
        "\n",
        "t1.join()\n",
        "t2.join()\n",
        "t3.join()"
      ]
    },
    {
      "cell_type": "markdown",
      "id": "34374c19",
      "metadata": {
        "id": "34374c19"
      },
      "source": [
        "## b) Write a python program that uses Thread Synchronization"
      ]
    },
    {
      "cell_type": "code",
      "execution_count": 6,
      "id": "89916225",
      "metadata": {
        "colab": {
          "base_uri": "https://localhost:8080/"
        },
        "id": "89916225",
        "outputId": "32e1e282-8641-4a9e-e355-7701f1e36956"
      },
      "outputs": [
        {
          "name": "stdout",
          "output_type": "stream",
          "text": [
            "Available berths:  10\n",
            "4 berths allocated for Person 1\n"
          ]
        },
        {
          "name": "stdout",
          "output_type": "stream",
          "text": [
            "Available berths:  6\n",
            "3 berths allocated for Person 2\n",
            "Available berths:  3\n",
            "2 berths allocated for Person 3\n",
            "Available berths:  1\n",
            "Sorry, only 1 berth/s is available\n",
            "1 berth/s allocated for Person 4 out of 3\n"
          ]
        }
      ],
      "source": [
        "# Thread synchronization using locks\n",
        "import threading\n",
        "import time\n",
        "\n",
        "class RailwayBooking:\n",
        "    def __init__(self, available):\n",
        "        \"\"\"constructor that accepts number of available berths\"\"\"\n",
        "        self.available = available\n",
        "        # create a lock object\n",
        "        self.lock = threading.Lock()\n",
        "        \n",
        "    def reserve(self, wanted):\n",
        "        \"\"\"a method that reserves berth\"\"\"\n",
        "        # lock the current object\n",
        "        self.lock.acquire()\n",
        "        # display available berths\n",
        "        print(\"Available berths: \", self.available)\n",
        "        \n",
        "        # allot berth\n",
        "        if self.available >= wanted:\n",
        "            # find the thread name\n",
        "            name = threading.current_thread().name\n",
        "            print(\"{req} berths allocated for {name}\".format(req=wanted, name=name))\n",
        "            # time delay for printing ticket\n",
        "            time.sleep(0.99) # uncomment this\n",
        "            # update berths\n",
        "            self.available -= wanted\n",
        "        else:\n",
        "            print(\"Sorry, only\", self.available, \"berth/s is available\")\n",
        "            \n",
        "            input_user = \"Yes\"\n",
        "            \n",
        "            if input_user == \"Yes\":\n",
        "                print(self.available, \"berth/s allocated for\", threading.current_thread().name, \"out of\", wanted)\n",
        "                time.sleep(0.99)\n",
        "                self.available -= wanted\n",
        "            else:\n",
        "                print(\"Sorry No berth allocated\")\n",
        "        \n",
        "        # release the lock\n",
        "        self.lock.release()\n",
        "\n",
        "\n",
        "# create RailwayBooking object\n",
        "obj = RailwayBooking(10)\n",
        "\n",
        "# create two threads\n",
        "booking1 = threading.Thread(target=obj.reserve, args=(4,)) # demand 4 berths\n",
        "booking2 = threading.Thread(target=obj.reserve, args=(3,)) # demand 3 berths\n",
        "booking3 = threading.Thread(target=obj.reserve, args=(2,)) # demand 2 berths\n",
        "booking4 = threading.Thread(target=obj.reserve, args=(3,)) # demand 3 berths\n",
        "\n",
        "booking1.name = 'Person 1'\n",
        "booking2.name = 'Person 2'\n",
        "booking3.name = 'Person 3'\n",
        "booking4.name = 'Person 4'\n",
        "\n",
        "# run the threads\n",
        "booking1.start()\n",
        "booking2.start()\n",
        "booking3.start()\n",
        "booking4.start()"
      ]
    },
    {
      "cell_type": "code",
      "execution_count": null,
      "id": "93675eca",
      "metadata": {
        "id": "93675eca"
      },
      "outputs": [],
      "source": []
    }
  ],
  "metadata": {
    "colab": {
      "provenance": []
    },
    "kernelspec": {
      "display_name": "Python 3",
      "language": "python",
      "name": "python3"
    },
    "language_info": {
      "codemirror_mode": {
        "name": "ipython",
        "version": 3
      },
      "file_extension": ".py",
      "mimetype": "text/x-python",
      "name": "python",
      "nbconvert_exporter": "python",
      "pygments_lexer": "ipython3",
      "version": "3.7.5"
    }
  },
  "nbformat": 4,
  "nbformat_minor": 5
}
