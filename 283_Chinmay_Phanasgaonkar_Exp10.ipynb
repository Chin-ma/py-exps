{
 "cells": [
  {
   "cell_type": "markdown",
   "id": "695a5fd3",
   "metadata": {},
   "source": [
    "# # Experiment 10\n",
    "## Exploring basics of NumPy Methods\n",
    "### a) Create numpy arrays using various methods"
   ]
  },
  {
   "cell_type": "code",
   "execution_count": 10,
   "id": "cf8450e9",
   "metadata": {},
   "outputs": [],
   "source": [
    "# import numpy\n",
    "import numpy as np"
   ]
  },
  {
   "cell_type": "code",
   "execution_count": 11,
   "id": "9a202953",
   "metadata": {},
   "outputs": [
    {
     "name": "stdout",
     "output_type": "stream",
     "text": [
      "<class 'numpy.ndarray'>\n",
      "7\n",
      "[ 2  4  6  8 10 12 14]\n"
     ]
    }
   ],
   "source": [
    "# create numpy array using array()\n",
    "arr1 = np.array([2, 4, 6, 8, 10, 12,14])\n",
    "print(type(arr1))\n",
    "print(len(arr1))\n",
    "print(arr1)"
   ]
  },
  {
   "cell_type": "code",
   "execution_count": 12,
   "id": "32c59353",
   "metadata": {},
   "outputs": [
    {
     "name": "stdout",
     "output_type": "stream",
     "text": [
      "6\n",
      "[ 5.  7.  9. 11. 13. 15.]\n"
     ]
    }
   ],
   "source": [
    "# create numpy array using linspace()\n",
    "# linspace(start, stop, n)\n",
    "arr2 = np.linspace(5, 15, 6)\n",
    "print(len(arr2))\n",
    "print(arr2)"
   ]
  },
  {
   "cell_type": "code",
   "execution_count": 13,
   "id": "aeb237e8",
   "metadata": {},
   "outputs": [
    {
     "name": "stdout",
     "output_type": "stream",
     "text": [
      "2\n",
      "[100.   1.]\n"
     ]
    }
   ],
   "source": [
    "# create numpy array using logspace()\n",
    "# logspace(start, stop, n)\n",
    "arr3 = np.logspace(2, 0, 2)\n",
    "print(len(arr3))\n",
    "print(arr3)"
   ]
  },
  {
   "cell_type": "code",
   "execution_count": 14,
   "id": "217781ec",
   "metadata": {},
   "outputs": [
    {
     "name": "stdout",
     "output_type": "stream",
     "text": [
      "10\n",
      "[ 3  6  9 12 15 18 21 24 27 30]\n"
     ]
    }
   ],
   "source": [
    "# create numpy array using arange()\n",
    "# arange(start, stop, stepsize)\n",
    "arr4 = np.arange(3, 33, 3)\n",
    "print(len(arr4))\n",
    "print(arr4)"
   ]
  },
  {
   "cell_type": "code",
   "execution_count": 15,
   "id": "6324c183",
   "metadata": {},
   "outputs": [
    {
     "name": "stdout",
     "output_type": "stream",
     "text": [
      "[0. 0. 0. 0. 0. 0.]\n",
      "[0. 0. 0. 0. 0.]\n",
      "[0 0 0 0 0 0]\n"
     ]
    }
   ],
   "source": [
    "# create numpy arrays using zeros() and ones()\n",
    "arr5 = np.zeros(6)\n",
    "print(arr5)\n",
    "\n",
    "arr6 = np.zeros(5, float)\n",
    "print(arr6)\n",
    "\n",
    "arr7 = np.zeros(6, int)\n",
    "print(arr7)"
   ]
  },
  {
   "cell_type": "code",
   "execution_count": 16,
   "id": "6915c281",
   "metadata": {},
   "outputs": [
    {
     "name": "stdout",
     "output_type": "stream",
     "text": [
      "[1. 1. 1. 1. 1. 1.]\n",
      "[1. 1. 1. 1. 1. 1.]\n",
      "[1 1 1 1 1 1]\n"
     ]
    }
   ],
   "source": [
    "arr5 = np.ones(6)\n",
    "print(arr5)\n",
    "\n",
    "arr6 = np.ones(6, float)\n",
    "print(arr6)\n",
    "\n",
    "arr7 = np.ones(6, int)\n",
    "print(arr7)"
   ]
  },
  {
   "cell_type": "markdown",
   "id": "dd2ceaf7",
   "metadata": {},
   "source": [
    "### b) Find sum, min, max, mean, median, stddev of numpy array"
   ]
  },
  {
   "cell_type": "code",
   "execution_count": 17,
   "id": "1752c0c0",
   "metadata": {},
   "outputs": [
    {
     "name": "stdout",
     "output_type": "stream",
     "text": [
      "[  1   7  13  19  25  31  37  43  49  55  61  67  73  79  85  91  97 103\n",
      " 109 115 121 127 133 139 145]\n",
      "Sum:  1825\n",
      "Min:  1\n",
      "Max:  145\n",
      "Mean:  73.0\n",
      "Median:  73.0\n",
      "Standard deviation:  43.266615305567875\n"
     ]
    }
   ],
   "source": [
    "import numpy as np\n",
    "\n",
    "# create numpy array\n",
    "int_arr = np.arange(1, 150, 6)\n",
    "print(int_arr)\n",
    "\n",
    "print(\"Sum: \", np.sum(int_arr))\n",
    "print(\"Min: \", np.min(int_arr))\n",
    "print(\"Max: \", np.max(int_arr))\n",
    "print(\"Mean: \", np.mean(int_arr))\n",
    "print(\"Median: \", np.median(int_arr))\n",
    "print(\"Standard deviation: \", np.std(int_arr))"
   ]
  },
  {
   "cell_type": "code",
   "execution_count": 18,
   "id": "8fbba515",
   "metadata": {},
   "outputs": [
    {
     "name": "stdout",
     "output_type": "stream",
     "text": [
      "[1.69 2.04 2.22 3.45 3.78]\n",
      "Sum:  13.18\n",
      "Min:  1.69\n",
      "Max:  3.78\n",
      "Mean:  2.636\n",
      "Median:  2.22\n",
      "Standard deviation:  0.823956309521324\n"
     ]
    }
   ],
   "source": [
    "float_arr = np.array([1.69, 2.04, 2.22, 3.45, 3.78])\n",
    "print(float_arr)\n",
    "\n",
    "print(\"Sum: \", np.sum(float_arr))\n",
    "print(\"Min: \", np.min(float_arr))\n",
    "print(\"Max: \", np.max(float_arr))\n",
    "print(\"Mean: \", np.mean(float_arr))\n",
    "print(\"Median: \", np.median(float_arr))\n",
    "print(\"Standard deviation: \", np.std(float_arr))"
   ]
  }
 ],
 "metadata": {
  "kernelspec": {
   "display_name": "Python 3",
   "language": "python",
   "name": "python3"
  },
  "language_info": {
   "codemirror_mode": {
    "name": "ipython",
    "version": 3
   },
   "file_extension": ".py",
   "mimetype": "text/x-python",
   "name": "python",
   "nbconvert_exporter": "python",
   "pygments_lexer": "ipython3",
   "version": "3.7.5"
  }
 },
 "nbformat": 4,
 "nbformat_minor": 5
}
