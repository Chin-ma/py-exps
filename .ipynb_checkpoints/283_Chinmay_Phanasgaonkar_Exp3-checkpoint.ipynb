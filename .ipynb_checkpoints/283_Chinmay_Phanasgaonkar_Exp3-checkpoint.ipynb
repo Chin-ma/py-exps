{
 "cells": [
  {
   "cell_type": "markdown",
   "id": "db063a08-d227-4e1c-aeb8-7e7e6d4499d2",
   "metadata": {},
   "source": [
    "# Experiment 3\n",
    "## Exploring Files and directories\n",
    "\n",
    "### a) Write a Python program to append data to existing file and then display the entire file"
   ]
  },
  {
   "cell_type": "code",
   "execution_count": 1,
   "id": "d0eb4f16-5a99-460d-a5ba-706b7ef0bbe7",
   "metadata": {
    "id": "bA5ajAmk7XH6"
   },
   "outputs": [
    {
     "name": "stdout",
     "output_type": "stream",
     "text": [
      "Original contents\n",
      "But even stripped of these supernatural surmisings, there was enough in\n",
      "the earthly make and incontestable character of the monster to strike\n",
      "the imagination with unwonted power. For, it was not so much his\n",
      "uncommon bulk that so much distinguished him from other sperm whales,\n",
      "but, as was elsewhere thrown out—a peculiar snow-white wrinkled\n",
      "forehead, and a high, pyramidical white hump. These were his prominent\n",
      "features; the tokens whereby, even in the limitless, uncharted seas, he\n",
      "revealed his identity, at a long distance, to those who knew him.\n",
      "\n",
      "The rest of his body was so streaked, and spotted, and marbled with the\n",
      "same shrouded hue, that, in the end, he had gained his distinctive\n",
      "appellation of the White Whale; a name, indeed, literally justified by\n",
      "his vivid aspect, when seen gliding at high noon through a dark blue\n",
      "sea, leaving a milky-way wake of creamy foam, all spangled with golden\n",
      "gleamings.\n",
      "\n",
      "Nor was it his unwonted magnitude, nor his remarkable hue, nor yet his\n",
      "deformed lower jaw, that so much invested the whale with natural\n",
      "terror, as that unexampled, intelligent malignity which, according to\n",
      "specific accounts, he had over and over again evinced in his assaults.\n",
      "More than all, his treacherous retreats struck more of dismay than\n",
      "perhaps aught else. For, when swimming before his exulting pursuers,\n",
      "with every apparent symptom of alarm, he had several times been known\n",
      "to turn round suddenly, and, bearing down upon them, either stave their\n",
      "boats to splinters, or drive them back in consternation to their ship.\n",
      "\n",
      "\n",
      "\n",
      "Enter text to append: Hello World\n",
      "\n",
      "\n",
      "\n",
      "\n",
      "File contents after modification:\n",
      "But even stripped of these supernatural surmisings, there was enough in\n",
      "the earthly make and incontestable character of the monster to strike\n",
      "the imagination with unwonted power. For, it was not so much his\n",
      "uncommon bulk that so much distinguished him from other sperm whales,\n",
      "but, as was elsewhere thrown out—a peculiar snow-white wrinkled\n",
      "forehead, and a high, pyramidical white hump. These were his prominent\n",
      "features; the tokens whereby, even in the limitless, uncharted seas, he\n",
      "revealed his identity, at a long distance, to those who knew him.\n",
      "\n",
      "The rest of his body was so streaked, and spotted, and marbled with the\n",
      "same shrouded hue, that, in the end, he had gained his distinctive\n",
      "appellation of the White Whale; a name, indeed, literally justified by\n",
      "his vivid aspect, when seen gliding at high noon through a dark blue\n",
      "sea, leaving a milky-way wake of creamy foam, all spangled with golden\n",
      "gleamings.\n",
      "\n",
      "Nor was it his unwonted magnitude, nor his remarkable hue, nor yet his\n",
      "deformed lower jaw, that so much invested the whale with natural\n",
      "terror, as that unexampled, intelligent malignity which, according to\n",
      "specific accounts, he had over and over again evinced in his assaults.\n",
      "More than all, his treacherous retreats struck more of dismay than\n",
      "perhaps aught else. For, when swimming before his exulting pursuers,\n",
      "with every apparent symptom of alarm, he had several times been known\n",
      "to turn round suddenly, and, bearing down upon them, either stave their\n",
      "boats to splinters, or drive them back in consternation to their ship.\n",
      "Hello World\n"
     ]
    }
   ],
   "source": [
    "# display original file contents\n",
    "filename = \"sample.txt\"\n",
    "f = open(filename, 'a+') # open in append mode\n",
    "f.seek(0, 0)\n",
    "contents = f.read()\n",
    "print(\"Original contents\")\n",
    "print(contents)\n",
    "print(\"\\n\")\n",
    "\n",
    "# reset file pojnter\n",
    "f.seek(0, 0)\n",
    "\n",
    "# append data\n",
    "more_contents = input(\"Enter text to append: \")\n",
    "print(\"\\n\")\n",
    "f.write(more_contents)\n",
    "\n",
    "f.seek(0, 0)\n",
    "print(\"\\n\")\n",
    "print(\"File contents after modification:\")\n",
    "contents = f.read()\n",
    "print(contents)\n",
    "\n",
    "f.close()"
   ]
  },
  {
   "cell_type": "markdown",
   "id": "4af1292a-9b98-4749-a704-83efdcb092c2",
   "metadata": {},
   "source": [
    "### b) Write a Python program to count number of lines, words and characters in a file."
   ]
  },
  {
   "cell_type": "code",
   "execution_count": 6,
   "id": "3732a3f5-0cd6-499f-aba2-dcb7030e946c",
   "metadata": {},
   "outputs": [
    {
     "name": "stdout",
     "output_type": "stream",
     "text": [
      "line count:  27\n",
      "word count:  118\n",
      "character count:  796\n"
     ]
    }
   ],
   "source": [
    "filename = \"data/alice_small.txt\"\n",
    "\n",
    "# init count\n",
    "lines = 0\n",
    "words = 0\n",
    "characters = 0\n",
    "\n",
    "# read file one line at a time\n",
    "with open(filename, 'r') as f:\n",
    "    for line in f:\n",
    "        tokens = line.split()\n",
    "        lines += 1\n",
    "        words += len(tokens)\n",
    "        characters += len(line)\n",
    "\n",
    "print(\"line count: \", lines)\n",
    "print(\"word count: \", words)\n",
    "print(\"character count: \", characters)"
   ]
  },
  {
   "cell_type": "markdown",
   "id": "3cd25038-ece1-4a63-80c3-81f41bb8b7a4",
   "metadata": {},
   "source": [
    "### c) Write a Python program to display files available in current directory"
   ]
  },
  {
   "cell_type": "code",
   "execution_count": 4,
   "id": "b0e0464e-896e-40ce-b9cb-533b7e7b770e",
   "metadata": {
    "executionTime": 125,
    "lastSuccessfullyExecutedCode": "import os\n\n# os.system('ls') by directly executing system command (OS specific)\n\n# display all\nlst = os.listdir()\nprint(lst)\n\n# display only files\nlst = os.listdir()\nlst = [f for f in lst if os.path.isfile(f)]\nprint(lst)"
   },
   "outputs": [
    {
     "name": "stdout",
     "output_type": "stream",
     "text": [
      "['Experiment_5.ipynb', 'data', 'Experiment_7.ipynb', 'list_of_exp.odt', 'Experiment_12.ipynb', 'django_site', 'Experiment_2.ipynb', 'Experiment_11.ipynb', '.ipynb_checkpoints', 'list_of_exp.pdf', 'sample.txt', 'Experiment_8.ipynb', 'Experiment_6.ipynb', 'Experiment_10.ipynb', 'gui_form.py', 'project', 'Experiment_9.ipynb', 'misc.ipynb', 'Experiment_3.ipynb', 'Experiment_1.ipynb']\n",
      "['Experiment_5.ipynb', 'Experiment_7.ipynb', 'list_of_exp.odt', 'Experiment_12.ipynb', 'Experiment_2.ipynb', 'Experiment_11.ipynb', 'list_of_exp.pdf', 'sample.txt', 'Experiment_8.ipynb', 'Experiment_6.ipynb', 'Experiment_10.ipynb', 'gui_form.py', 'Experiment_9.ipynb', 'misc.ipynb', 'Experiment_3.ipynb', 'Experiment_1.ipynb']\n"
     ]
    }
   ],
   "source": [
    "import os\n",
    "\n",
    "# os.system('ls') by directly executing system command (OS specific)\n",
    "\n",
    "# display all\n",
    "lst = os.listdir()\n",
    "print(lst)\n",
    "\n",
    "# display only files\n",
    "lst = os.listdir()\n",
    "lst = [f for f in lst if os.path.isfile(f)] # list comprehension\n",
    "print(lst)\n",
    "\n",
    "# # alternatively can be simplified as\n",
    "# lst = os.listdir()\n",
    "# filelist = []\n",
    "# for f in lst:\n",
    "#     if os.path.isfile(f):\n",
    "#         filelist.append(f)\n",
    "# print(filelist)"
   ]
  }
 ],
 "metadata": {
  "colab": {
   "name": "Welcome to DataCamp Workspaces.ipynb",
   "provenance": []
  },
  "kernelspec": {
   "display_name": "Python 3 (ipykernel)",
   "language": "python",
   "name": "python3"
  },
  "language_info": {
   "codemirror_mode": {
    "name": "ipython",
    "version": 3
   },
   "file_extension": ".py",
   "mimetype": "text/x-python",
   "name": "python",
   "nbconvert_exporter": "python",
   "pygments_lexer": "ipython3",
   "version": "3.9.13"
  }
 },
 "nbformat": 4,
 "nbformat_minor": 5
}
