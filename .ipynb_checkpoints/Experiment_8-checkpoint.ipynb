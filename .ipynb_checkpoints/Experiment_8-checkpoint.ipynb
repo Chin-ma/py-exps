{
 "cells": [
  {
   "cell_type": "markdown",
   "id": "d0eb4f16-5a99-460d-a5ba-706b7ef0bbe7",
   "metadata": {
    "id": "bA5ajAmk7XH6"
   },
   "source": [
    "# Experiment 8\n",
    "## String Formatting and Regular Expressions\n",
    "### The .format() method of str class"
   ]
  },
  {
   "cell_type": "code",
   "execution_count": 1,
   "id": "9747b975-55c7-40b2-9389-2a38bc6b273e",
   "metadata": {
    "executionTime": 184,
    "lastSuccessfullyExecutedCode": "# python f-strings\ncustom_string = \"String formatting\"\nprint(f\"{custom_string} is a powerful technique\")"
   },
   "outputs": [
    {
     "name": "stdout",
     "output_type": "stream",
     "text": [
      "String formatting is a powerful technique\n"
     ]
    }
   ],
   "source": [
    "# python f-strings\n",
    "custom_string = \"String formatting\"\n",
    "print(f\"{custom_string} is a powerful technique\")"
   ]
  },
  {
   "cell_type": "code",
   "execution_count": 2,
   "id": "960a4356-5e45-41a3-8464-35a786f2dc9f",
   "metadata": {
    "executionTime": 145,
    "lastSuccessfullyExecutedCode": "# The .format method of str class\n\n# 'text{}'.format(value)\n# Positional formatting\n\nprint(\"Machine learning provides {} the ability to learn {}\".format(\"systems\", \"automatically\"))"
   },
   "outputs": [
    {
     "name": "stdout",
     "output_type": "stream",
     "text": [
      "Machine learning provides systems the ability to learn automatically\n"
     ]
    }
   ],
   "source": [
    "# The .format method of str class\n",
    "\n",
    "# 'text{}'.format(value)\n",
    "# Positional formatting\n",
    "\n",
    "print(\"Machine learning provides {} the ability to learn {}\".format(\"systems\", \"automatically\"))"
   ]
  },
  {
   "cell_type": "code",
   "execution_count": 3,
   "id": "b15c9134-7ea3-4aad-a8bd-f55a599ffc56",
   "metadata": {
    "executionTime": 152,
    "lastSuccessfullyExecutedCode": "my_string = \"{} rely on {} datasets\"\nmethod = \"Supervised algorithms\"\ncondition = \"labeled\"\nprint(my_string.format(method, condition))"
   },
   "outputs": [
    {
     "name": "stdout",
     "output_type": "stream",
     "text": [
      "Supervised algorithms rely on labeled datasets\n"
     ]
    }
   ],
   "source": [
    "my_string = \"{} rely on {} datasets\"\n",
    "method = \"Supervised algorithms\"\n",
    "condition = \"labeled\"\n",
    "print(my_string.format(method, condition))"
   ]
  },
  {
   "cell_type": "code",
   "execution_count": 4,
   "id": "141b4420-09b3-45d6-b1c8-7a807577dd1c",
   "metadata": {
    "executionTime": 155,
    "lastSuccessfullyExecutedCode": "# Reordering Values\nprint(\"{} has a friend called {} and a sister called {}\". format(\"Betty\", \"Linda\", \"Daisy\"))\nprint(\"{2} has a friend called {0} and a sister called {1}\". format(\"Betty\", \"Linda\", \"Daisy\"))"
   },
   "outputs": [
    {
     "name": "stdout",
     "output_type": "stream",
     "text": [
      "Betty has a friend called Linda and a sister called Daisy\n",
      "Daisy has a friend called Betty and a sister called Linda\n"
     ]
    }
   ],
   "source": [
    "# Reordering Values\n",
    "print(\"{} has a friend called {} and a sister called {}\". format(\"Betty\", \"Linda\", \"Daisy\"))\n",
    "print(\"{2} has a friend called {0} and a sister called {1}\". format(\"Betty\", \"Linda\", \"Daisy\"))"
   ]
  },
  {
   "cell_type": "code",
   "execution_count": 5,
   "id": "e523719a-d785-4206-8ef8-dc4bc4079fb1",
   "metadata": {
    "executionTime": 122,
    "lastSuccessfullyExecutedCode": "# Name Placeholders\ntool=\"Unsupervised algorithms\"\ngoal=\"patterns\"\nprint(\"{title} try to find {aim} in the dataset\".format(title=tool, aim=goal))"
   },
   "outputs": [
    {
     "name": "stdout",
     "output_type": "stream",
     "text": [
      "Unsupervised algorithms try to find patterns in the dataset\n"
     ]
    }
   ],
   "source": [
    "# Name Placeholders\n",
    "tool=\"Unsupervised algorithms\"\n",
    "goal=\"patterns\"\n",
    "print(\"{title} try to find {aim} in the dataset\".format(title=tool, aim=goal))"
   ]
  },
  {
   "cell_type": "code",
   "execution_count": 6,
   "id": "9885f135-72fc-45c8-9725-20596b9edbe9",
   "metadata": {
    "executionTime": 143,
    "lastSuccessfullyExecutedCode": "my_methods = {\"tool\": \"Unsupervised algorithms\", \"goal\": \"patterns\"}\nprint('{data[tool]} try to find {data[goal]} in the dataset'.format(data=my_methods))"
   },
   "outputs": [
    {
     "name": "stdout",
     "output_type": "stream",
     "text": [
      "Unsupervised algorithms try to find patterns in the dataset\n"
     ]
    }
   ],
   "source": [
    "my_methods = {\"tool\": \"Unsupervised algorithms\", \"goal\": \"patterns\"}\n",
    "print('{data[tool]} try to find {data[goal]} in the dataset'.format(data=my_methods))"
   ]
  },
  {
   "cell_type": "code",
   "execution_count": 7,
   "id": "ba8f54f6-536e-4099-ae94-58c36af2b8b3",
   "metadata": {
    "executionTime": 124,
    "lastSuccessfullyExecutedCode": "# Format Specifier\nprint(\"Only {0:f}% of the {1} produced worldwide is {2}!\". format(0.5155675, \"data\", \"analyzed\"))\nprint(\"Only {0:.2f}% of the {1} produced worldwide is {2}!\".format(0.5155675, \"data\", \"analyzed\"))"
   },
   "outputs": [
    {
     "name": "stdout",
     "output_type": "stream",
     "text": [
      "Only 0.515567% of the data produced worldwide is analyzed!\n",
      "Only 0.52% of the data produced worldwide is analyzed!\n"
     ]
    }
   ],
   "source": [
    "# Format Specifier\n",
    "print(\"Only {0:f}% of the {1} produced worldwide is {2}!\". format(0.5155675, \"data\", \"analyzed\"))\n",
    "print(\"Only {0:.2f}% of the {1} produced worldwide is {2}!\".format(0.5155675, \"data\", \"analyzed\"))"
   ]
  },
  {
   "cell_type": "code",
   "execution_count": 8,
   "id": "ba7ec972-dc54-4ab0-abbc-a62c4e2abcb3",
   "metadata": {
    "executionTime": 194,
    "lastSuccessfullyExecutedCode": "# Formatting datetime\nfrom datetime import datetime\nprint(datetime.now())"
   },
   "outputs": [
    {
     "name": "stdout",
     "output_type": "stream",
     "text": [
      "2023-01-28 02:15:45.776626\n"
     ]
    }
   ],
   "source": [
    "# Formatting datetime\n",
    "from datetime import datetime\n",
    "print(datetime.now())"
   ]
  },
  {
   "cell_type": "code",
   "execution_count": 9,
   "id": "6a5b637e-948e-412c-9310-b1e6eb38207d",
   "metadata": {
    "executionTime": 200,
    "lastSuccessfullyExecutedCode": "print(\"Today's date is {:%Y-%m-%d %H:%M}\".format(datetime.now()))"
   },
   "outputs": [
    {
     "name": "stdout",
     "output_type": "stream",
     "text": [
      "Today's date is 2023-01-28 02:15\n"
     ]
    }
   ],
   "source": [
    "print(\"Today's date is {:%Y-%m-%d %H:%M}\".format(datetime.now()))"
   ]
  },
  {
   "cell_type": "markdown",
   "id": "fbc8f3cc",
   "metadata": {},
   "source": [
    "### a) Print the current timestamp in the format DD Month YYYY, HH:MM:SS\n",
    "e.g.\n",
    "``` \n",
    "23 January 2023, 14:34:45\n",
    "```"
   ]
  },
  {
   "cell_type": "markdown",
   "id": "1bee70bc-1de1-4ba5-a7f4-81d42b3bfe41",
   "metadata": {},
   "source": [
    "### Regular expressions in python using re module"
   ]
  },
  {
   "cell_type": "code",
   "execution_count": 2,
   "id": "0f55b7e5-d269-4ad5-8aa1-676e675d88f3",
   "metadata": {
    "executionTime": 0,
    "lastSuccessfullyExecutedCode": "import re"
   },
   "outputs": [],
   "source": [
    "import re"
   ]
  },
  {
   "cell_type": "code",
   "execution_count": 14,
   "id": "710f9aaa",
   "metadata": {},
   "outputs": [
    {
     "name": "stdout",
     "output_type": "stream",
     "text": [
      "This is a normal\n",
      "string\n"
     ]
    }
   ],
   "source": [
    "normalstr = 'This is a normal\\nstring'\n",
    "print(normalstr)"
   ]
  },
  {
   "cell_type": "code",
   "execution_count": 15,
   "id": "ec459823",
   "metadata": {},
   "outputs": [
    {
     "name": "stdout",
     "output_type": "stream",
     "text": [
      "This is a raw\\nstring\n"
     ]
    }
   ],
   "source": [
    "rawstr = r'This is a raw\\nstring'\n",
    "print(rawstr)"
   ]
  },
  {
   "cell_type": "code",
   "execution_count": null,
   "id": "e730a516",
   "metadata": {},
   "outputs": [],
   "source": [
    "# search() function\n",
    "# looks for the first location where the regular expression pattern produces a match\n",
    "# returns a match object"
   ]
  },
  {
   "cell_type": "code",
   "execution_count": 23,
   "id": "10384452",
   "metadata": {},
   "outputs": [
    {
     "name": "stdout",
     "output_type": "stream",
     "text": [
      "None\n"
     ]
    }
   ],
   "source": [
    "sequence = 'Hogwarts School of Witchcraft and Wizardry'\n",
    "result = re.search(r'harry', sequence)\n",
    "print(result)"
   ]
  },
  {
   "cell_type": "code",
   "execution_count": 18,
   "id": "1d746da4",
   "metadata": {},
   "outputs": [
    {
     "name": "stdout",
     "output_type": "stream",
     "text": [
      "<re.Match object; span=(19, 21), match='Wi'>\n"
     ]
    }
   ],
   "source": [
    "result = re.search(r'Wi', sequence)\n",
    "print(result)"
   ]
  },
  {
   "cell_type": "code",
   "execution_count": 19,
   "id": "cbde1e19",
   "metadata": {},
   "outputs": [
    {
     "name": "stdout",
     "output_type": "stream",
     "text": [
      "Wi\n"
     ]
    }
   ],
   "source": [
    "print(result.group())"
   ]
  },
  {
   "cell_type": "code",
   "execution_count": null,
   "id": "49aa5454",
   "metadata": {},
   "outputs": [],
   "source": [
    "# findall() function\n",
    "# Returns all non-overlapping matches of pattern in string, as a list of strings or tuples."
   ]
  },
  {
   "cell_type": "code",
   "execution_count": 22,
   "id": "b377ce47",
   "metadata": {},
   "outputs": [
    {
     "name": "stdout",
     "output_type": "stream",
     "text": [
      "['Wi', 'Wi']\n"
     ]
    }
   ],
   "source": [
    "result = re.findall(r'Wi', sequence)\n",
    "print(result)"
   ]
  },
  {
   "cell_type": "code",
   "execution_count": null,
   "id": "8223ff3f",
   "metadata": {},
   "outputs": [],
   "source": [
    "# match() function\n",
    "# If zero or more characters at the beginning of string match the regular expression pattern,\n",
    "# returns a corresponding match object."
   ]
  },
  {
   "cell_type": "code",
   "execution_count": 24,
   "id": "69583751",
   "metadata": {},
   "outputs": [
    {
     "name": "stdout",
     "output_type": "stream",
     "text": [
      "<re.Match object; span=(0, 3), match='man'>\n",
      "man\n"
     ]
    }
   ],
   "source": [
    "pattern = r'man'\n",
    "sequence = 'manchester united football club'\n",
    "result = re.match(pattern, sequence)\n",
    "if result:\n",
    "    print(result)\n",
    "    print(result.group())\n",
    "else:\n",
    "    print(result)"
   ]
  },
  {
   "cell_type": "code",
   "execution_count": 25,
   "id": "91289895",
   "metadata": {},
   "outputs": [
    {
     "name": "stdout",
     "output_type": "stream",
     "text": [
      "None\n"
     ]
    }
   ],
   "source": [
    "pattern = r'manu'\n",
    "sequence = 'manchester united football club'\n",
    "result = re.match(pattern, sequence)\n",
    "if result:\n",
    "    print(result)\n",
    "    print(result.group())\n",
    "else:\n",
    "    print(result)"
   ]
  },
  {
   "cell_type": "code",
   "execution_count": 56,
   "id": "b46cc7b6",
   "metadata": {},
   "outputs": [
    {
     "name": "stdout",
     "output_type": "stream",
     "text": [
      "None\n"
     ]
    }
   ],
   "source": [
    "pattern = r'united'\n",
    "sequence = 'manchester united football club'\n",
    "result = re.match(pattern, sequence)\n",
    "if result:\n",
    "    print(result)\n",
    "    print(result.group())\n",
    "else:\n",
    "    print(result)"
   ]
  },
  {
   "cell_type": "code",
   "execution_count": 3,
   "id": "638e53ca-bba6-41c1-8f87-21e0008a7d0d",
   "metadata": {
    "executionTime": 195,
    "lastSuccessfullyExecutedCode": "# Basic Patterns: Ordinary Characters\npattern = r\"Cookie\"\nsequence = \"Cookie\"\nif re.match(pattern, sequence):\n    print(\"Match!\")\nelse:\n    print(\"Not a match!\")"
   },
   "outputs": [
    {
     "name": "stdout",
     "output_type": "stream",
     "text": [
      "Match!\n"
     ]
    }
   ],
   "source": [
    "# Basic Patterns: Ordinary Characters\n",
    "pattern = r\"Cookie\"\n",
    "sequence = \"Cookie\"\n",
    "if re.match(pattern, sequence):\n",
    "    print(\"Match!\")\n",
    "else:\n",
    "    print(\"Not a match!\")"
   ]
  },
  {
   "cell_type": "code",
   "execution_count": null,
   "id": "e2cf99bc-4e3b-4e77-ac1c-79a7469f6728",
   "metadata": {},
   "outputs": [],
   "source": [
    "# Wild Card Characters: Special Characters\n",
    "# . (Dot.) In the default mode, this matches any character except a newline.\n",
    "# ^ (Caret.) Matches the start of the string\n",
    "# $ Matches the end of the string"
   ]
  },
  {
   "cell_type": "code",
   "execution_count": 13,
   "id": "db58f618-24cf-4b98-8888-5296e157d24a",
   "metadata": {
    "executionTime": 240,
    "lastSuccessfullyExecutedCode": "# Wild Card Characters: Special Characters\nre.search(r'Co.k.e', 'Cookie')"
   },
   "outputs": [
    {
     "data": {
      "text/plain": [
       "<re.Match object; span=(0, 6), match='Cookie'>"
      ]
     },
     "execution_count": 13,
     "metadata": {},
     "output_type": "execute_result"
    }
   ],
   "source": [
    "re.search(r'Co.k.e', 'Cookie')"
   ]
  },
  {
   "cell_type": "code",
   "execution_count": 14,
   "id": "866be1b0-28fd-4b53-b143-3ba4474d7b59",
   "metadata": {
    "executionTime": 235,
    "lastSuccessfullyExecutedCode": "re.search(r'Co.k.e', 'Cookie').group()"
   },
   "outputs": [
    {
     "data": {
      "text/plain": [
       "'Cookie'"
      ]
     },
     "execution_count": 14,
     "metadata": {},
     "output_type": "execute_result"
    }
   ],
   "source": [
    "re.search(r'Co.k.e', 'Cookie').group()"
   ]
  },
  {
   "cell_type": "code",
   "execution_count": 15,
   "id": "9fc61219-0b62-4b22-b65a-c8c6500c9b81",
   "metadata": {
    "executionTime": 193,
    "lastSuccessfullyExecutedCode": "re.search(r'^Eat', \"Eat cake!\").group()"
   },
   "outputs": [
    {
     "data": {
      "text/plain": [
       "'Eat'"
      ]
     },
     "execution_count": 15,
     "metadata": {},
     "output_type": "execute_result"
    }
   ],
   "source": [
    "re.search(r'^Eat', \"Eat cake!\").group()"
   ]
  },
  {
   "cell_type": "code",
   "execution_count": 19,
   "id": "b0ca4ac0-3fdd-4e74-8fe2-ed36938a37ff",
   "metadata": {
    "executionTime": 184,
    "lastSuccessfullyExecutedCode": "print(re.search(r'^eat', \"Let's eat cake!\"))"
   },
   "outputs": [
    {
     "name": "stdout",
     "output_type": "stream",
     "text": [
      "None\n"
     ]
    }
   ],
   "source": [
    "print(re.search(r'^eat', \"Let's eat cake!\"))"
   ]
  },
  {
   "cell_type": "code",
   "execution_count": 20,
   "id": "c49abe30-72e9-4dc5-a002-2a216fff1a74",
   "metadata": {
    "executionTime": 196,
    "lastSuccessfullyExecutedCode": "re.search(r'cake$', \"Cake! Let's eat cake\").group()"
   },
   "outputs": [
    {
     "data": {
      "text/plain": [
       "'cake'"
      ]
     },
     "execution_count": 20,
     "metadata": {},
     "output_type": "execute_result"
    }
   ],
   "source": [
    "re.search(r'cake$', \"Cake! Let's eat cake\").group()"
   ]
  },
  {
   "cell_type": "code",
   "execution_count": 21,
   "id": "6d519aef-19d4-49ee-bd21-dd88a9ffdda6",
   "metadata": {
    "executionTime": 194,
    "lastSuccessfullyExecutedCode": "print(re.search(r'cake$', \"Let's get some cake on our way home!\"))"
   },
   "outputs": [
    {
     "name": "stdout",
     "output_type": "stream",
     "text": [
      "None\n"
     ]
    }
   ],
   "source": [
    "print(re.search(r'cake$', \"Let's get some cake on our way home!\"))"
   ]
  },
  {
   "cell_type": "code",
   "execution_count": null,
   "id": "44b6ec96-6118-4564-b3ae-226b809a9b0f",
   "metadata": {},
   "outputs": [],
   "source": [
    "# [abc] - Matches a or b or c.\n",
    "# [a-zA-Z0-9] - Matches any letter from (a to z) or (A to Z) or (0 to 9)."
   ]
  },
  {
   "cell_type": "code",
   "execution_count": 22,
   "id": "fa48b9fa-8b3f-49f4-9126-31d4f14887c1",
   "metadata": {
    "executionTime": 237,
    "lastSuccessfullyExecutedCode": "re.search(r'[0-6]', 'Number: 5').group()"
   },
   "outputs": [
    {
     "data": {
      "text/plain": [
       "'5'"
      ]
     },
     "execution_count": 22,
     "metadata": {},
     "output_type": "execute_result"
    }
   ],
   "source": [
    "re.search(r'[0-6]', 'Number: 5').group()"
   ]
  },
  {
   "cell_type": "code",
   "execution_count": 23,
   "id": "48937910-0b46-42ab-aa5b-9d97a276895d",
   "metadata": {
    "executionTime": 235,
    "lastSuccessfullyExecutedCode": "## Matches any character except 5\nre.search(r'Number: [^5]', 'Number: 0').group()"
   },
   "outputs": [
    {
     "data": {
      "text/plain": [
       "'Number: 0'"
      ]
     },
     "execution_count": 23,
     "metadata": {},
     "output_type": "execute_result"
    }
   ],
   "source": [
    "## Matches any character except 5\n",
    "re.search(r'Number: [^5]', 'Number: 0').group()"
   ]
  },
  {
   "cell_type": "code",
   "execution_count": 24,
   "id": "01dfa49a-16d2-4112-a02b-777439a68e16",
   "metadata": {
    "executionTime": 207,
    "lastSuccessfullyExecutedCode": "## This will not match and hence a NONE value will be returned\nprint(re.search(r'Number: [^5]', 'Number: 5'))"
   },
   "outputs": [
    {
     "name": "stdout",
     "output_type": "stream",
     "text": [
      "None\n"
     ]
    }
   ],
   "source": [
    "## This will not match and hence a NONE value will be returned\n",
    "print(re.search(r'Number: [^5]', 'Number: 5'))"
   ]
  },
  {
   "cell_type": "code",
   "execution_count": null,
   "id": "72cd88e1-ce5a-4ad2-a89e-51d95c8fa84a",
   "metadata": {},
   "outputs": [],
   "source": [
    "# Quantifiers in RE\n",
    "# * Causes the resulting RE to match 0 or more repetitions of the preceding RE\n",
    "# + Causes the resulting RE to match 1 or more repetitions of the preceding RE\n",
    "# ? Causes the resulting RE to match 0 or 1 repetitions of the preceding RE"
   ]
  },
  {
   "cell_type": "code",
   "execution_count": 25,
   "id": "a753b698-154d-4a8b-9ae8-5a33379691ed",
   "metadata": {
    "executionTime": 295,
    "lastSuccessfullyExecutedCode": "re.search(r'Co+kie', 'Cooookie').group()"
   },
   "outputs": [
    {
     "data": {
      "text/plain": [
       "'Cooookie'"
      ]
     },
     "execution_count": 25,
     "metadata": {},
     "output_type": "execute_result"
    }
   ],
   "source": [
    "re.search(r'Co+kie', 'Cooookie').group()"
   ]
  },
  {
   "cell_type": "code",
   "execution_count": 26,
   "id": "70c66bc2-4c86-4e9d-bd41-4bf7838c9553",
   "metadata": {
    "executionTime": 263,
    "lastSuccessfullyExecutedCode": "re.search(r'Ca*o*kie', 'Cookie').group()"
   },
   "outputs": [
    {
     "data": {
      "text/plain": [
       "'Cookie'"
      ]
     },
     "execution_count": 26,
     "metadata": {},
     "output_type": "execute_result"
    }
   ],
   "source": [
    "re.search(r'Ca*o*kie', 'Cookie').group()"
   ]
  },
  {
   "cell_type": "code",
   "execution_count": 29,
   "id": "9a063c9e-0744-4d5e-b209-e6c8da001402",
   "metadata": {
    "executionTime": 233,
    "lastSuccessfullyExecutedCode": "re.search(r'Colou?r', 'Color').group()"
   },
   "outputs": [
    {
     "data": {
      "text/plain": [
       "'Color'"
      ]
     },
     "execution_count": 29,
     "metadata": {},
     "output_type": "execute_result"
    }
   ],
   "source": [
    "re.search(r'Colou?r', 'Color').group()"
   ]
  },
  {
   "cell_type": "code",
   "execution_count": 30,
   "id": "4848adb8-4699-4384-a453-e53d2648d7b0",
   "metadata": {
    "executionTime": 229,
    "lastSuccessfullyExecutedCode": "re.search(r'Colou?r', 'Colour').group()"
   },
   "outputs": [
    {
     "data": {
      "text/plain": [
       "'Colour'"
      ]
     },
     "execution_count": 30,
     "metadata": {},
     "output_type": "execute_result"
    }
   ],
   "source": [
    "re.search(r'Colou?r', 'Colour').group()"
   ]
  },
  {
   "cell_type": "code",
   "execution_count": null,
   "id": "5a6bf69b-284c-4d66-80a4-60d92ca32655",
   "metadata": {},
   "outputs": [],
   "source": [
    "# Special sequence characters in RE\n",
    "# \\d: digit\n",
    "# \\w: word character\n",
    "# \\W: non-word character\n",
    "# \\s: whitespace"
   ]
  },
  {
   "cell_type": "code",
   "execution_count": 2,
   "id": "b8ec241c-95f5-43b4-bcd8-168aed887630",
   "metadata": {
    "executionTime": 248,
    "lastSuccessfullyExecutedCode": "import re\n\nsentiment_analysis = '@robot9! @robot4& I have a good feeling that the show isgoing to be amazing! @robot9$ @robot7%'\n\nregex = r\"@robot\\d\\W\"\nprint(re.findall(regex, sentiment_analysis))"
   },
   "outputs": [
    {
     "name": "stdout",
     "output_type": "stream",
     "text": [
      "['@robot9!', '@robot4&', '@robot9$', '@robot7%']\n"
     ]
    }
   ],
   "source": [
    "import re\n",
    "\n",
    "sentiment_analysis = '@robot9! @robot4& I have a good feeling that the show isgoing to be amazing! @robot9$ @robot7%'\n",
    "\n",
    "regex = r\"@robot\\d\\W\"\n",
    "print(re.findall(regex, sentiment_analysis))"
   ]
  },
  {
   "cell_type": "code",
   "execution_count": 32,
   "id": "a8cb0a46-706b-495a-a183-d50e811c6143",
   "metadata": {
    "executionTime": 349,
    "lastSuccessfullyExecutedCode": "sentiment_analysis = \"Unfortunately one of those moments wasn't a giant squid monster. User_mentions:2, likes: 9, number of retweets: 7\"\nprint(re.findall(r\"User_mentions:\\d\", sentiment_analysis))\nprint(re.findall(r\"likes:\\s\\d\", sentiment_analysis))\nprint(re.findall(r\"number\\sof\\sretweets:\\s\\d\", sentiment_analysis))",
    "scrolled": true
   },
   "outputs": [
    {
     "name": "stdout",
     "output_type": "stream",
     "text": [
      "['User_mentions:2']\n",
      "['likes: 9']\n",
      "['number of retweets: 7']\n"
     ]
    }
   ],
   "source": [
    "sentiment_analysis = \"Unfortunately one of those moments wasn't a giant squid monster. User_mentions:2, likes: 9, number of retweets: 7\"\n",
    "print(re.findall(r\"User_mentions:\\d\", sentiment_analysis))\n",
    "print(re.findall(r\"likes:\\s\\d\", sentiment_analysis))\n",
    "print(re.findall(r\"number\\sof\\sretweets:\\s\\d\", sentiment_analysis))"
   ]
  },
  {
   "cell_type": "code",
   "execution_count": null,
   "id": "709e3152",
   "metadata": {},
   "outputs": [],
   "source": [
    "# split() function\n",
    "# Split string by the occurrences of pattern."
   ]
  },
  {
   "cell_type": "code",
   "execution_count": 37,
   "id": "6549f6f1",
   "metadata": {},
   "outputs": [
    {
     "name": "stdout",
     "output_type": "stream",
     "text": [
      "Avengers: Iron Man,  Captain America,   Black Widow,   Hulk,  Hawkeye, Thor\n"
     ]
    }
   ],
   "source": [
    "sequence = \"Iron Man,  Captain America,   Black Widow,   Hulk,  Hawkeye, Thor\"\n",
    "print(\"Avengers:\", sequence)"
   ]
  },
  {
   "cell_type": "code",
   "execution_count": 38,
   "id": "8b97fadc",
   "metadata": {},
   "outputs": [
    {
     "name": "stdout",
     "output_type": "stream",
     "text": [
      "['Iron Man', '  Captain America', '   Black Widow', '   Hulk', '  Hawkeye', ' Thor']\n"
     ]
    }
   ],
   "source": [
    "result = re.split(',', sequence)\n",
    "print(result) # result contains leading spaces"
   ]
  },
  {
   "cell_type": "code",
   "execution_count": 39,
   "id": "e2b12734",
   "metadata": {
    "scrolled": true
   },
   "outputs": [
    {
     "name": "stdout",
     "output_type": "stream",
     "text": [
      "['Iron', 'Man', 'Captain', 'America', 'Black', 'Widow', 'Hulk', 'Hawkeye', 'Thor']\n"
     ]
    }
   ],
   "source": [
    "result = re.split('\\W+', sequence) # result without leading spaces but splits names too\n",
    "print(result)"
   ]
  },
  {
   "cell_type": "code",
   "execution_count": 40,
   "id": "dd1063ff",
   "metadata": {},
   "outputs": [
    {
     "name": "stdout",
     "output_type": "stream",
     "text": [
      "['Iron Man', 'Captain America', 'Black Widow', 'Hulk', 'Hawkeye', 'Thor']\n"
     ]
    }
   ],
   "source": [
    "result = re.split(',\\W+', sequence) # result without leading spaces\n",
    "print(result)"
   ]
  },
  {
   "cell_type": "code",
   "execution_count": null,
   "id": "c3ec0137",
   "metadata": {},
   "outputs": [],
   "source": [
    "# sub() function\n",
    "# Substitute a regex with another sequence"
   ]
  },
  {
   "cell_type": "code",
   "execution_count": 28,
   "id": "d426fe34-16c6-4898-8a6c-7fa3e24e5f82",
   "metadata": {
    "executionTime": 259,
    "lastSuccessfullyExecutedCode": "sentiment_analysis = 'He#newHis%newTin love with$newPscrappy. #8break%He is&newYmissing him@newLalready'\n\n# Write a regex to match pattern separating sentences\nregex_sentence = r\"\\W\\dbreak\\W\"\n\n# Replace the regex_sentence with a space\nsentiment_sub = re.sub(regex_sentence, \" \", sentiment_analysis)\n\n# Write a regex to match pattern separating words\nregex_words = r\"\\Wnew\\w\"\n\n# Replace the regex_words and print the result\nsentiment_final = re.sub(regex_words, ' ', sentiment_sub)\nprint(sentiment_final)"
   },
   "outputs": [
    {
     "name": "stdout",
     "output_type": "stream",
     "text": [
      "He#newHis%newTin love with$newPscrappy. #8break%He is&newYmissing him@newLalready\n",
      "He#newHis%newTin love with$newPscrappy.  He is&newYmissing him@newLalready\n",
      "He is in love with scrappy.  He is missing him already\n"
     ]
    }
   ],
   "source": [
    "sentiment_analysis = 'He#newHis%newTin love with$newPscrappy. #8break%He is&newYmissing him@newLalready'\n",
    "print(sentiment_analysis)\n",
    "\n",
    "# Write a regex to match pattern separating sentences\n",
    "regex_sentence = r\"\\W\\dbreak\\W\"\n",
    "\n",
    "# Replace the regex_sentence with a space\n",
    "sentiment_sub = re.sub(regex_sentence, \" \", sentiment_analysis)\n",
    "print(sentiment_sub)\n",
    "\n",
    "# Write a regex to match pattern separating words\n",
    "regex_words = r\"\\Wnew\\w\"\n",
    "\n",
    "# Replace the regex_words and print the result\n",
    "sentiment_final = re.sub(regex_words, ' ', sentiment_sub)\n",
    "print(sentiment_final)"
   ]
  },
  {
   "cell_type": "code",
   "execution_count": 41,
   "id": "0827d5b1-5526-469c-894a-38a5666e95a6",
   "metadata": {
    "executionTime": 244,
    "lastSuccessfullyExecutedCode": "# {x} - Repeat exactly x number of times.\n# {x,} - Repeat at least x times or more.\n# {x, y} - Repeat at least x times but no more than y times.\n\nre.search(r'\\d{9,10}', '0987654321').group()"
   },
   "outputs": [],
   "source": [
    "# Repetitions\n",
    "# {x}   - Repeat exactly x number of times.\n",
    "# {x,}  - Repeat at least x times or more.\n",
    "# {x,y} - Repeat at least x times but no more than y times."
   ]
  },
  {
   "cell_type": "code",
   "execution_count": 44,
   "id": "bb730758",
   "metadata": {},
   "outputs": [
    {
     "data": {
      "text/plain": [
       "'0987654321'"
      ]
     },
     "execution_count": 44,
     "metadata": {},
     "output_type": "execute_result"
    }
   ],
   "source": [
    "re.search(r'\\d{10}', '09876543210').group()"
   ]
  },
  {
   "cell_type": "code",
   "execution_count": 47,
   "id": "d05dbd6a",
   "metadata": {},
   "outputs": [
    {
     "data": {
      "text/plain": [
       "'0987'"
      ]
     },
     "execution_count": 47,
     "metadata": {},
     "output_type": "execute_result"
    }
   ],
   "source": [
    "re.search(r'\\d{4}', '09876543210').group()"
   ]
  },
  {
   "cell_type": "code",
   "execution_count": 51,
   "id": "a68a201a",
   "metadata": {},
   "outputs": [
    {
     "data": {
      "text/plain": [
       "'09876543210'"
      ]
     },
     "execution_count": 51,
     "metadata": {},
     "output_type": "execute_result"
    }
   ],
   "source": [
    "re.search(r'\\d{4,}', '09876543210').group()"
   ]
  },
  {
   "cell_type": "code",
   "execution_count": 55,
   "id": "7805a907",
   "metadata": {},
   "outputs": [
    {
     "name": "stdout",
     "output_type": "stream",
     "text": [
      "None\n"
     ]
    }
   ],
   "source": [
    "result = re.search(r'\\d{12,}', '09876543210')\n",
    "print(result)"
   ]
  },
  {
   "cell_type": "code",
   "execution_count": 48,
   "id": "60e8f255",
   "metadata": {},
   "outputs": [
    {
     "data": {
      "text/plain": [
       "'09876543210'"
      ]
     },
     "execution_count": 48,
     "metadata": {},
     "output_type": "execute_result"
    }
   ],
   "source": [
    "re.search(r'\\d{10,11}', '09876543210').group()"
   ]
  },
  {
   "cell_type": "code",
   "execution_count": 50,
   "id": "555ccd67-7ae8-4219-9e91-01c0eaca7f94",
   "metadata": {
    "executionTime": 246,
    "lastSuccessfullyExecutedCode": "re.search(r'\\d{9,10}', '987654321').group()"
   },
   "outputs": [
    {
     "data": {
      "text/plain": [
       "'9876543210'"
      ]
     },
     "execution_count": 50,
     "metadata": {},
     "output_type": "execute_result"
    }
   ],
   "source": [
    "re.search(r'\\d{10,11}', '9876543210').group() # no leading 0 in the sequence"
   ]
  },
  {
   "cell_type": "markdown",
   "id": "01f4e93f",
   "metadata": {},
   "source": [
    "### b) Convert 12-hour time to 24-hour format\n",
    "e.g.\n",
    "```\n",
    "Input: 1:24 pm\n",
    "Output: 13:24\n",
    "\n",
    "Input: 1:24 AM\n",
    "Output: 01:24\n",
    "```"
   ]
  }
 ],
 "metadata": {
  "colab": {
   "name": "Welcome to DataCamp Workspaces.ipynb",
   "provenance": []
  },
  "kernelspec": {
   "display_name": "Python 3 (ipykernel)",
   "language": "python",
   "name": "python3"
  },
  "language_info": {
   "codemirror_mode": {
    "name": "ipython",
    "version": 3
   },
   "file_extension": ".py",
   "mimetype": "text/x-python",
   "name": "python",
   "nbconvert_exporter": "python",
   "pygments_lexer": "ipython3",
   "version": "3.9.13"
  },
  "vscode": {
   "interpreter": {
    "hash": "be3f950095f4846377a17d42d86eb579248805da66f6e1685f87cbc8aeffb3a6"
   }
  }
 },
 "nbformat": 4,
 "nbformat_minor": 5
}
