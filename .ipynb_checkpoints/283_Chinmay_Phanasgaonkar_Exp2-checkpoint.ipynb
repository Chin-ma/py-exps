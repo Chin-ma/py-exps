{
 "cells": [
  {
   "cell_type": "markdown",
   "id": "f03aee5e-599f-4660-b528-425f21249820",
   "metadata": {},
   "source": [
    "# Experiment 2\n",
    "## Creating functions, classes and objects using python. Demonstrate exception handling and inheritance.\n",
    "\n",
    "### a) Write a function in python that checks whether a number is Armstrong number or not"
   ]
  },
  {
   "cell_type": "code",
   "execution_count": 1,
   "id": "23558ad0-3726-457e-bb43-e12743026ab6",
   "metadata": {
    "executionTime": 58,
    "lastSuccessfullyExecutedCode": "# function\ndef is_armstrong(num):\n    \"\"\"Check whether num is Armstrong number or not\"\"\"\n    num_digits = len(str(num))\n    total = 0\n    temp = num\n    while temp > 0:\n        digit = temp % 10\n        total += digit ** num_digits\n        temp //= 10\n    return total == num\n\nprint(\"63 is Armstrong: \", is_armstrong(63))\nprint(\"407 is Armstrong: \", is_armstrong(407))"
   },
   "outputs": [
    {
     "name": "stdout",
     "output_type": "stream",
     "text": [
      "63 is Armstrong:  False\n",
      "407 is Armstrong:  True\n"
     ]
    }
   ],
   "source": [
    "# function\n",
    "def is_armstrong(num):\n",
    "    \"\"\"Check whether num is Armstrong number or not\"\"\"\n",
    "    num_digits = len(str(num))\n",
    "    total = 0\n",
    "    temp = num\n",
    "    while temp > 0:\n",
    "        digit = temp % 10\n",
    "        total += digit ** num_digits\n",
    "        temp //= 10\n",
    "    return total == num\n",
    "\n",
    "print(\"63 is Armstrong: \", is_armstrong(63))\n",
    "print(\"407 is Armstrong: \", is_armstrong(407))"
   ]
  },
  {
   "cell_type": "markdown",
   "id": "5a9eef2b-4925-40ea-abd4-081a757908c4",
   "metadata": {},
   "source": [
    "### b) Write power function with a default argument"
   ]
  },
  {
   "cell_type": "code",
   "execution_count": 2,
   "id": "26b7a9d9-a66e-433b-b07e-ab2d25eead84",
   "metadata": {
    "executionTime": 82,
    "lastSuccessfullyExecutedCode": "def power(base, exp = 1):\n    return base ** exp\n\nprint(power(23))\nprint(power(4, 2))\nprint(power(5, 3))"
   },
   "outputs": [
    {
     "name": "stdout",
     "output_type": "stream",
     "text": [
      "23\n",
      "16\n",
      "125\n"
     ]
    }
   ],
   "source": [
    "def power(base, exp = 1):\n",
    "    return base ** exp\n",
    "\n",
    "print(power(23))\n",
    "print(power(4, 2))\n",
    "print(power(5, 3))"
   ]
  },
  {
   "cell_type": "markdown",
   "id": "10d85f7d-6a92-49d0-a7ce-954a0c333c95",
   "metadata": {},
   "source": [
    "### c) Write a function with variable-length arguments"
   ]
  },
  {
   "cell_type": "code",
   "execution_count": 3,
   "id": "c06fbcef-62c4-49a9-8211-d13dfcde1081",
   "metadata": {
    "executionTime": 65,
    "lastSuccessfullyExecutedCode": "# Define gibberish\ndef gibberish(*args):\n    \"\"\"Concatenate strings in *args together.\"\"\"\n\n    # Initialize an empty string: hodgepodge\n    hodgepodge = \"\"\n\n    # Concatenate the strings in args\n    for word in args:\n        hodgepodge += word\n\n    # Return hodgepodge\n    return hodgepodge\n\n# Call gibberish() with one string: one_word\none_word = gibberish(\"luke\")\n\n# Call gibberish() with five strings: many_words\nmany_words = gibberish(\"luke\", \"leia\", \"han\", \"obi\", \"darth\")\n\n# Print one_word and many_words\nprint(one_word)\nprint(many_words)"
   },
   "outputs": [
    {
     "name": "stdout",
     "output_type": "stream",
     "text": [
      "luke\n",
      "lukeleiahanobidarth\n"
     ]
    }
   ],
   "source": [
    "# Define gibberish\n",
    "def gibberish(*args):\n",
    "    \"\"\"Concatenate strings in *args together.\"\"\"\n",
    "\n",
    "    # Initialize an empty string: hodgepodge\n",
    "    hodgepodge = \"\"\n",
    "\n",
    "    # Concatenate the strings in args\n",
    "    for word in args:\n",
    "        hodgepodge += word\n",
    "\n",
    "    # Return hodgepodge\n",
    "    return hodgepodge\n",
    "\n",
    "# Call gibberish() with one string: one_word\n",
    "one_word = gibberish(\"luke\")\n",
    "\n",
    "# Call gibberish() with five strings: many_words\n",
    "many_words = gibberish(\"luke\", \"leia\", \"han\", \"obi\", \"darth\")\n",
    "\n",
    "# Print one_word and many_words\n",
    "print(one_word)\n",
    "print(many_words)"
   ]
  },
  {
   "cell_type": "markdown",
   "id": "ca0a652a-556c-4d3a-abc4-c833555eb96c",
   "metadata": {},
   "source": [
    "### d) Write a class Animal and two derived classes Dog and Tiger "
   ]
  },
  {
   "cell_type": "code",
   "execution_count": 4,
   "id": "fa159116-803c-46eb-9d54-c45e6f36e619",
   "metadata": {
    "executionTime": 91,
    "lastSuccessfullyExecutedCode": "# Animal\nclass Animal:\n    def __init__(self, age = 1, height = 1, weight = 1):\n        self.age = age\n        self.height = height\n        self.weight = weight\n        \n    def eat(self):\n        print(\"Animal eating food\")\n        \n    def sleep(self):\n        print(\"Animal sleeping\")\n        \n    def display(self):\n        print(\"Age: \", self.age)\n        print(\"Height: \", self.height)\n        print(\"Weight: \", self.weight)\n\nclass Dog(Animal):    \n    def __init__(self, age = 1, height = 1, weight = 1, name = ''):\n        Animal.__init__(self, age, height, weight)\n        self.name = name\n        \n    def play(self):\n        print(\"Dog playing\")\n        \n    def eat(self):\n        print(\"Dog chewing on a bone\")\n        \n    def display(self):\n        print(\"Name: \", self.name)\n        super().display # DO NOT pass self as an argument when using super()\n\nclass Tiger(Animal):\n    pass\n        \n\n# Make some objects\nd1 = Dog()\nprint(type(d1))\nprint(d1)\nprint(d1.name)\nd1.display()\nd1.play()\n\nd2 = Dog(2, 2.3, 35, \"Milo\")\nprint(type(d2))\nprint(d2)\nprint(d2.name)\nd2.display()\nd2.play()\nd2.eat()\nd2.sleep()\n\nt1 = Tiger()\nprint(type(t1))\nt1.display()\nt1.eat()\nt1.sleep()\n# t1.play() # ERROR\n"
   },
   "outputs": [
    {
     "name": "stdout",
     "output_type": "stream",
     "text": [
      "<class '__main__.Dog'>\n",
      "<__main__.Dog object at 0x7fef6baea350>\n",
      "\n",
      "Name:  \n",
      "Dog playing\n",
      "<class '__main__.Dog'>\n",
      "<__main__.Dog object at 0x7fef6bae8490>\n",
      "Milo\n",
      "Name:  Milo\n",
      "Dog playing\n",
      "Dog chewing on a bone\n",
      "Animal sleeping\n",
      "<class '__main__.Tiger'>\n",
      "Age:  1\n",
      "Height:  1\n",
      "Weight:  1\n",
      "Animal eating food\n",
      "Animal sleeping\n"
     ]
    }
   ],
   "source": [
    "# Animal\n",
    "class Animal:\n",
    "    def __init__(self, age = 1, height = 1, weight = 1):\n",
    "        self.age = age\n",
    "        self.height = height\n",
    "        self.weight = weight\n",
    "        \n",
    "    def eat(self):\n",
    "        print(\"Animal eating food\")\n",
    "        \n",
    "    def sleep(self):\n",
    "        print(\"Animal sleeping\")\n",
    "        \n",
    "    def display(self):\n",
    "        print(\"Age: \", self.age)\n",
    "        print(\"Height: \", self.height)\n",
    "        print(\"Weight: \", self.weight)\n",
    "\n",
    "class Dog(Animal):    \n",
    "    def __init__(self, age = 1, height = 1, weight = 1, name = ''):\n",
    "        Animal.__init__(self, age, height, weight) # one way of calling super class method\n",
    "        self.name = name\n",
    "        \n",
    "    def play(self):\n",
    "        print(\"Dog playing\")\n",
    "        \n",
    "    def eat(self):\n",
    "        print(\"Dog chewing on a bone\")\n",
    "        \n",
    "    def display(self):\n",
    "        print(\"Name: \", self.name)\n",
    "        super().display # another way of calling super class method; DO NOT pass self as an argument when using super()\n",
    "\n",
    "class Tiger(Animal):\n",
    "    pass\n",
    "        \n",
    "\n",
    "# Make some objects\n",
    "d1 = Dog()\n",
    "print(type(d1))\n",
    "print(d1)\n",
    "print(d1.name)\n",
    "d1.display()\n",
    "d1.play()\n",
    "\n",
    "d2 = Dog(2, 2.3, 35, \"Milo\")\n",
    "print(type(d2))\n",
    "print(d2)\n",
    "print(d2.name)\n",
    "d2.display()\n",
    "d2.play()\n",
    "d2.eat()\n",
    "d2.sleep()\n",
    "\n",
    "t1 = Tiger()\n",
    "print(type(t1))\n",
    "t1.display()\n",
    "t1.eat()\n",
    "t1.sleep()\n",
    "# t1.play() # ERROR\n"
   ]
  },
  {
   "cell_type": "markdown",
   "id": "7084334c-3206-4df8-83e7-205375dd88d7",
   "metadata": {},
   "source": [
    "### e) Use a try - except - except pattern (with two except blocks) inside the function to catch and handle two exceptions as follows:\n",
    "    try executing the code as-is,\n",
    "    - if ZeroDivisionError occurs, print \"Cannot divide by zero!\",\n",
    "    - if IndexError occurs, print \"Index out of range!\"\n",
    "    \n",
    "```\n",
    "# MODIFY the function to catch exceptions\n",
    "def invert_at_index(x, ind):\n",
    "    \treturn 1/x[ind]\n",
    "\t\n",
    "a = [5,6,0,7]\n",
    "\n",
    "# Works okay\n",
    "print(invert_at_index(a, 1))\n",
    "\n",
    "# Potential ZeroDivisionError\n",
    "print(invert_at_index(a, 2))\n",
    "\n",
    "# Potential IndexError\n",
    "print(invert_at_index(a, 5))\"\n",
    "```"
   ]
  },
  {
   "cell_type": "code",
   "execution_count": 5,
   "id": "9eaa6b63-db05-4246-8515-fe3010503d70",
   "metadata": {
    "executionTime": 111,
    "lastSuccessfullyExecutedCode": "# MODIFY the function to catch exceptions\ndef invert_at_index(x, ind):\n    try:\n        return 1/x[ind]\n    except ZeroDivisionError:\n        print(\"Cannot divide by zero!\")\n    except IndexError:\n        print(\"Index out of range!\")\n\na = [5,6,0,7]\n\n# Works okay\nprint(invert_at_index(a, 1))\n\n# Potential ZeroDivisionError\nprint(invert_at_index(a, 2))\n\n# Potential IndexError\nprint(invert_at_index(a, 5))\n"
   },
   "outputs": [
    {
     "name": "stdout",
     "output_type": "stream",
     "text": [
      "0.16666666666666666\n",
      "Cannot divide by zero!\n",
      "None\n",
      "Index out of range!\n",
      "None\n"
     ]
    }
   ],
   "source": [
    "# MODIFY the function to catch exceptions\n",
    "def invert_at_index(x, ind):\n",
    "    try:\n",
    "        return 1/x[ind]\n",
    "    except ZeroDivisionError:\n",
    "        print(\"Cannot divide by zero!\")\n",
    "    except IndexError:\n",
    "        print(\"Index out of range!\")\n",
    "\n",
    "a = [5,6,0,7]\n",
    "\n",
    "# Works okay\n",
    "print(invert_at_index(a, 1))\n",
    "\n",
    "# Potential ZeroDivisionError\n",
    "print(invert_at_index(a, 2))\n",
    "\n",
    "# Potential IndexError\n",
    "print(invert_at_index(a, 5))\n"
   ]
  },
  {
   "cell_type": "code",
   "execution_count": null,
   "id": "66409a72",
   "metadata": {},
   "outputs": [],
   "source": []
  }
 ],
 "metadata": {
  "colab": {
   "name": "Welcome to DataCamp Workspaces.ipynb",
   "provenance": []
  },
  "kernelspec": {
   "display_name": "Python 3 (ipykernel)",
   "language": "python",
   "name": "python3"
  },
  "language_info": {
   "codemirror_mode": {
    "name": "ipython",
    "version": 3
   },
   "file_extension": ".py",
   "mimetype": "text/x-python",
   "name": "python",
   "nbconvert_exporter": "python",
   "pygments_lexer": "ipython3",
   "version": "3.9.13"
  }
 },
 "nbformat": 4,
 "nbformat_minor": 5
}
