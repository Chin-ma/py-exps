{
 "cells": [
  {
   "attachments": {},
   "cell_type": "markdown",
   "id": "297cb549",
   "metadata": {},
   "source": [
    "# Experiment 6\n",
    "## Database connectivity in Python\n",
    "\n",
    "### a) Write python code to perform CRUD (create, read, update and delete) operations on a database"
   ]
  },
  {
   "cell_type": "code",
   "execution_count": 31,
   "id": "1736120b",
   "metadata": {
    "vscode": {
     "languageId": "python"
    }
   },
   "outputs": [],
   "source": [
    "import mysql.connector as db\n",
    "\n",
    "def db_connect(server, user, passwd, dbname):\n",
    "    \"\"\"Connect to the DB and return the engine and connection objects\"\"\"\n",
    "    try:\n",
    "        conn = db.connect(host=server, user=user, password=passwd, database=dbname)\n",
    "        cursor = conn.cursor()\n",
    "    except db.Error as err:\n",
    "        print(\"Couldn't connect to the database:\", err)\n",
    "        return None\n",
    "    return conn, cursor\n",
    "\n",
    "def display_table_records(conn, tablename):\n",
    "    try:\n",
    "        cursor = conn.cursor()\n",
    "    except db.Error as err:\n",
    "        print(err)\n",
    "\n",
    "    query = \"select * from \" + tablename\n",
    "    cursor.execute(query)\n",
    "    \n",
    "    for rec in cursor.fetchall():\n",
    "        print(rec)"
   ]
  },
  {
   "cell_type": "code",
   "execution_count": 32,
   "id": "7e208d4e",
   "metadata": {
    "vscode": {
     "languageId": "python"
    }
   },
   "outputs": [
    {
     "name": "stdout",
     "output_type": "stream",
     "text": [
      "<class 'mysql.connector.connection.MySQLConnection'>\n",
      "<class 'mysql.connector.cursor.MySQLCursor'>\n",
      "('s_no', 'int(11)', 'NO', 'PRI', None, '')\n",
      "('itemname', 'varchar(20)', 'YES', '', None, '')\n",
      "('rate', 'int(11)', 'YES', '', None, '')\n",
      "[(1, 'tea', 10), (2, 'coffee', 10), (3, 'cold drink', 20), (4, 'samosa', 10), (5, 'sandwich', 50), (6, 'Dhokla', 30), (7, 'kachori', 10), (8, 'milk', 20), (9, 'noodles', 50), (10, 'pasta', 50), (11, 'sprite', 30), (12, 'noodles', 40), (13, 'bread', 35), (14, 'biscuits', 10), (15, 'butter', 40)]\n"
     ]
    },
    {
     "data": {
      "text/plain": [
       "True"
      ]
     },
     "execution_count": 32,
     "metadata": {},
     "output_type": "execute_result"
    }
   ],
   "source": [
    "\n",
    "# connect to the DB\n",
    "conn, cursor = db_connect(server = \"127.0.0.1\", user = \"root\", passwd = \"chinmay\", dbname = \"test\")\n",
    "print(type(conn))\n",
    "print(type(cursor))\n",
    "\n",
    "# employees table\n",
    "query = \"desc restaurant\"\n",
    "cursor.execute(query)\n",
    "for col in cursor:\n",
    "    print(col)\n",
    "\n",
    "# query = 'delete from employees'\n",
    "# cursor.execute(query)\n",
    "\n",
    "query = \"select * from restaurant\"\n",
    "cursor.execute(query)\n",
    "\n",
    "print(cursor.fetchall())\n",
    "\n",
    "cursor.close()\n"
   ]
  },
  {
   "cell_type": "code",
   "execution_count": 33,
   "id": "bbeca672",
   "metadata": {
    "vscode": {
     "languageId": "python"
    }
   },
   "outputs": [
    {
     "name": "stdout",
     "output_type": "stream",
     "text": [
      "(1, 'tea', 10)\n",
      "(2, 'coffee', 10)\n",
      "(3, 'cold drink', 20)\n",
      "(4, 'samosa', 10)\n",
      "(5, 'sandwich', 50)\n",
      "(6, 'Dhokla', 30)\n",
      "(7, 'kachori', 10)\n",
      "(8, 'milk', 20)\n",
      "(9, 'noodles', 50)\n",
      "(10, 'pasta', 50)\n",
      "(11, 'sprite', 30)\n",
      "(12, 'noodles', 40)\n",
      "(13, 'bread', 35)\n",
      "(14, 'biscuits', 10)\n",
      "(15, 'butter', 40)\n",
      "Error:  1062 (23000): Duplicate entry '11' for key 'PRIMARY'\n",
      "(1, 'tea', 10)\n",
      "(2, 'coffee', 10)\n",
      "(3, 'cold drink', 20)\n",
      "(4, 'samosa', 10)\n",
      "(5, 'sandwich', 50)\n",
      "(6, 'Dhokla', 30)\n",
      "(7, 'kachori', 10)\n",
      "(8, 'milk', 20)\n",
      "(9, 'noodles', 50)\n",
      "(10, 'pasta', 50)\n",
      "(11, 'sprite', 30)\n",
      "(12, 'noodles', 40)\n",
      "(13, 'bread', 35)\n",
      "(14, 'biscuits', 10)\n",
      "(15, 'butter', 40)\n",
      "Error:  1062 (23000): Duplicate entry '12' for key 'PRIMARY'\n",
      "(1, 'tea', 10)\n",
      "(2, 'coffee', 10)\n",
      "(3, 'cold drink', 20)\n",
      "(4, 'samosa', 10)\n",
      "(5, 'sandwich', 50)\n",
      "(6, 'Dhokla', 30)\n",
      "(7, 'kachori', 10)\n",
      "(8, 'milk', 20)\n",
      "(9, 'noodles', 50)\n",
      "(10, 'pasta', 50)\n",
      "(11, 'sprite', 30)\n",
      "(12, 'noodles', 40)\n",
      "(13, 'bread', 35)\n",
      "(14, 'biscuits', 10)\n",
      "(15, 'butter', 40)\n"
     ]
    }
   ],
   "source": [
    "# insert\n",
    "display_table_records(conn, 'restaurant')\n",
    "\n",
    "query = \"insert into restaurant (s_no, itemname, rate) values (%s, %s, %s)\"\n",
    "rec1 = (11, 'sprite', 30)\n",
    "\n",
    "cursor = conn.cursor()\n",
    "\n",
    "try:\n",
    "    cursor.execute(query, rec1)\n",
    "except BaseException as e:\n",
    "    print(\"Error: \", e)\n",
    "\n",
    "display_table_records(conn, 'restaurant')\n",
    "\n",
    "query2 = \"insert into restaurant (s_no, itemname, rate) values (%(s_no)s, %(itemname)s, %(rate)s)\"\n",
    "rec2 = {'s_no':12,\n",
    "        'itemname':'noodles',\n",
    "        'rate':40\n",
    "       }\n",
    "\n",
    "try:\n",
    "    cursor.execute(query2, rec2)\n",
    "except BaseException as e:\n",
    "    print(\"Error: \", e)\n",
    "\n",
    "cursor.close()\n",
    "\n",
    "\n",
    "display_table_records(conn, 'restaurant')\n"
   ]
  },
  {
   "cell_type": "code",
   "execution_count": 35,
   "id": "353f00f7",
   "metadata": {
    "vscode": {
     "languageId": "python"
    }
   },
   "outputs": [
    {
     "name": "stdout",
     "output_type": "stream",
     "text": [
      "(1, 'tea', 10)\n",
      "(2, 'coffee', 10)\n",
      "(3, 'cold drink', 20)\n",
      "(4, 'samosa', 10)\n",
      "(5, 'sandwich', 50)\n",
      "(6, 'Dhokla', 30)\n",
      "(7, 'kachori', 10)\n",
      "(8, 'milk', 20)\n",
      "(9, 'noodles', 50)\n",
      "(10, 'pasta', 50)\n",
      "(11, 'sprite', 30)\n",
      "(12, 'noodles', 40)\n",
      "(13, 'bread', 35)\n",
      "(14, 'biscuits', 10)\n",
      "(15, 'butter', 40)\n",
      "(16, 'brown bread', 35)\n",
      "(17, 'oats', 10)\n",
      "(18, 'jam', 40)\n"
     ]
    }
   ],
   "source": [
    "# insert multiple records\n",
    "value_list = [\n",
    "    {'s_no':16, 'itemname':'brown bread', 'rate':35},\n",
    "    {'s_no':17, 'itemname':'oats', 'rate':10},\n",
    "    {'s_no':18, 'itemname':'jam', 'rate':40}\n",
    "]\n",
    "\n",
    "cursor = conn.cursor()\n",
    "cursor.executemany(query2, value_list)\n",
    "conn.commit()\n",
    "\n",
    "display_table_records(conn, 'restaurant')\n"
   ]
  }
 ],
 "metadata": {
  "kernelspec": {
   "display_name": "Python 3",
   "language": "python",
   "name": "python3"
  },
  "vscode": {
   "interpreter": {
    "hash": "be3f950095f4846377a17d42d86eb579248805da66f6e1685f87cbc8aeffb3a6"
   }
  }
 },
 "nbformat": 4,
 "nbformat_minor": 5
}
