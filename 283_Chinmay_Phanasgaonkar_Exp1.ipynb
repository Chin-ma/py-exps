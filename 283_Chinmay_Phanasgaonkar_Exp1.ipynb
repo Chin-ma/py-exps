{
 "cells": [
  {
   "cell_type": "markdown",
   "id": "ddfd7289",
   "metadata": {},
   "source": [
    "# Experiment 1\n",
    "## Exploring basics of python like data types (strings, list, array, dictionaries, set, tuples) and control statements.\n",
    "\n",
    "### a) Convert string to uppercase, lowercase, and find a substring in given string"
   ]
  },
  {
   "cell_type": "code",
   "execution_count": 1,
   "id": "8e2d2d68",
   "metadata": {
    "scrolled": true
   },
   "outputs": [
    {
     "name": "stdout",
     "output_type": "stream",
     "text": [
      "THIS IS A STRING\n",
      "this is a string\n",
      "12\n"
     ]
    }
   ],
   "source": [
    "s = \"This is a string\"\n",
    "\n",
    "print(s.upper())\n",
    "print(s.lower())\n",
    "print(s.find('ring'))"
   ]
  },
  {
   "cell_type": "markdown",
   "id": "505858c5",
   "metadata": {},
   "source": [
    "### b) Create a list and perform append, extend, insert, remove, pop, slice operations "
   ]
  },
  {
   "cell_type": "code",
   "execution_count": 2,
   "id": "c569d647",
   "metadata": {},
   "outputs": [
    {
     "name": "stdout",
     "output_type": "stream",
     "text": [
      "['Python', 'C++', 'Csharp', 'Java', 'JavaScript']\n",
      "['Python', 'C++', 'Csharp', 'Java', 'JavaScript', 'Rust']\n"
     ]
    }
   ],
   "source": [
    "langs = ['Python', 'C++', 'Csharp', 'Java', 'JavaScript']\n",
    "print(langs)\n",
    "\n",
    "# append\n",
    "langs.append('Rust')\n",
    "print(langs)"
   ]
  },
  {
   "cell_type": "code",
   "execution_count": 3,
   "id": "1b701253",
   "metadata": {},
   "outputs": [
    {
     "name": "stdout",
     "output_type": "stream",
     "text": [
      "['Python', 'C++', 'Csharp', 'Java', 'JavaScript', 'Rust', 'React', 'Angular']\n"
     ]
    }
   ],
   "source": [
    "# extend\n",
    "frameworks = ['React', 'Angular']\n",
    "langs.extend(frameworks)\n",
    "print(langs)"
   ]
  },
  {
   "cell_type": "code",
   "execution_count": 4,
   "id": "a64f15dd",
   "metadata": {},
   "outputs": [
    {
     "name": "stdout",
     "output_type": "stream",
     "text": [
      "['Python', 'C++', 'Kotlin', 'Csharp', 'Java', 'JavaScript', 'Rust', 'React', 'Angular']\n"
     ]
    }
   ],
   "source": [
    "# insert\n",
    "langs.insert(2, 'Kotlin')\n",
    "print(langs)"
   ]
  },
  {
   "cell_type": "code",
   "execution_count": 5,
   "id": "9a59a05b",
   "metadata": {},
   "outputs": [
    {
     "name": "stdout",
     "output_type": "stream",
     "text": [
      "['Python', 'Kotlin', 'Csharp', 'Java', 'JavaScript', 'Rust', 'React', 'Angular']\n"
     ]
    }
   ],
   "source": [
    "# remove\n",
    "langs.remove('C++')\n",
    "print(langs)"
   ]
  },
  {
   "cell_type": "code",
   "execution_count": 6,
   "id": "03026b02",
   "metadata": {},
   "outputs": [
    {
     "name": "stdout",
     "output_type": "stream",
     "text": [
      "['Python', 'Kotlin', 'Csharp']\n",
      "['Python', 'Kotlin', 'Csharp', 'Java']\n",
      "['Rust', 'React', 'Angular']\n",
      "Angular\n",
      "['Rust', 'React']\n",
      "['Python', 'Kotlin', 'Csharp', 'Java', 'JavaScript', 'Rust', 'React', 'Angular']\n",
      "['Kotlin', 'Java', 'Rust']\n"
     ]
    }
   ],
   "source": [
    "# slice\n",
    "print(langs[0:3])\n",
    "print(langs[:4])\n",
    "print(langs[5:])\n",
    "print(langs[-1])\n",
    "print(langs[-3:-1])\n",
    "print(langs[:])\n",
    "print(langs[1:6:2])"
   ]
  },
  {
   "cell_type": "code",
   "execution_count": 7,
   "id": "b4d6372a",
   "metadata": {},
   "outputs": [
    {
     "name": "stdout",
     "output_type": "stream",
     "text": [
      "['Python', 'Kotlin', 'Csharp', 'Java', 'JavaScript', 'Rust', 'React']\n"
     ]
    }
   ],
   "source": [
    "# pop\n",
    "langs.pop()\n",
    "print(langs)"
   ]
  },
  {
   "cell_type": "code",
   "execution_count": 8,
   "id": "8ca0723a",
   "metadata": {},
   "outputs": [
    {
     "name": "stdout",
     "output_type": "stream",
     "text": [
      "['Python', 'Kotlin', 'Java', 'JavaScript', 'Rust', 'React']\n"
     ]
    }
   ],
   "source": [
    "langs.pop(2)\n",
    "print(langs)"
   ]
  },
  {
   "cell_type": "markdown",
   "id": "27172f0e",
   "metadata": {},
   "source": [
    "### c) Perform operations like intersection, union, difference on sets"
   ]
  },
  {
   "cell_type": "code",
   "execution_count": 9,
   "id": "beb5f680",
   "metadata": {},
   "outputs": [
    {
     "name": "stdout",
     "output_type": "stream",
     "text": [
      "old languages:  {'Prolog', 'CPL', 'Cobol', 'Fortran', 'Lisp', 'C'}\n",
      "new languages:  {'Java', 'Csharp', 'Python', 'JavaScript', 'C++', 'C'}\n",
      "United:  {'Prolog', 'Python', 'Cobol', 'JavaScript', 'Fortran', 'Lisp', 'Java', 'Csharp', 'CPL', 'C++', 'C'}\n",
      "Common languages:  {'C'}\n",
      "Difference:  {'Prolog', 'Cobol', 'Fortran', 'Lisp', 'CPL'}\n"
     ]
    }
   ],
   "source": [
    "old_langs = {'Fortran', 'Lisp', 'Cobol', 'CPL', 'Prolog', 'C'}\n",
    "new_langs = {'Python', 'C++', 'Csharp', 'Java', 'JavaScript', 'C'}\n",
    "print(\"old languages: \", old_langs)\n",
    "print(\"new languages: \", new_langs)\n",
    "\n",
    "# union\n",
    "united = old_langs.union(new_langs)\n",
    "print(\"United: \", united)\n",
    "\n",
    "# civil_war = {'Iron Man', 'Hawkeye', 'Black Panther', 'Captain America', 'Scarlet Witch', 'Spiderman', 'Ant-Man', 'Black Widow'}\n",
    "# print(\"Avengers in Civil War: \", civil_war)\n",
    "\n",
    "# intersection\n",
    "common = old_langs.intersection(new_langs)\n",
    "print(\"Common languages: \", common)\n",
    "\n",
    "# difference\n",
    "diff = old_langs.difference(new_langs)\n",
    "print(\"Difference: \", diff)"
   ]
  },
  {
   "cell_type": "markdown",
   "id": "30ceb2b5",
   "metadata": {},
   "source": [
    "### d) Perform operations  like create, update, delete, access, keys(), values(), looping over keys and values on dictionaries"
   ]
  },
  {
   "cell_type": "code",
   "execution_count": 16,
   "id": "73d2bc63",
   "metadata": {},
   "outputs": [
    {
     "name": "stdout",
     "output_type": "stream",
     "text": [
      "{'India': 'Delhi', 'France': 'Paris', 'Germany': 'Berlin', 'Italy': 'Rome', 'Japan': 'Tokyo', 'Russia': 'Moscow'}\n"
     ]
    }
   ],
   "source": [
    "# create\n",
    "capital_city = {'India':'Delhi', 'France':'Paris', 'Germany':'Berlin', 'Italy':'Rome', 'Japan':'Tokyo', 'Russia':'Moscow'}\n",
    "print(capital_city)"
   ]
  },
  {
   "cell_type": "code",
   "execution_count": 17,
   "id": "07154bc8",
   "metadata": {},
   "outputs": [
    {
     "name": "stdout",
     "output_type": "stream",
     "text": [
      "capital city:  {'India': 'Delhi', 'France': 'Paris', 'Germany': 'Berlin', 'Italy': 'Rome', 'Japan': 'Tokyo', 'Russia': 'Moscow', 'Spain': 'Madrid'}\n"
     ]
    }
   ],
   "source": [
    "# update\n",
    "capital_city['Spain'] = \"Madrid\"\n",
    "print(\"capital city: \", capital_city)"
   ]
  },
  {
   "cell_type": "code",
   "execution_count": 18,
   "id": "8e15bc68",
   "metadata": {},
   "outputs": [
    {
     "name": "stdout",
     "output_type": "stream",
     "text": [
      "capital city:  {'India': 'Delhi', 'France': 'Paris', 'Germany': 'Berlin', 'Italy': 'Rome', 'Japan': 'Tokyo', 'Russia': 'Moscow', 'Spain': 'Madrid'}\n",
      "capital ctty:  {'India': 'Delhi', 'France': 'Paris', 'Italy': 'Rome', 'Japan': 'Tokyo', 'Russia': 'Moscow', 'Spain': 'Madrid'}\n",
      "ret_val: Key not found\n",
      "capital city:  {'India': 'Delhi', 'France': 'Paris', 'Italy': 'Rome', 'Japan': 'Tokyo', 'Russia': 'Moscow', 'Spain': 'Madrid'}\n",
      "capital city:  {'India': 'Delhi', 'France': 'Paris', 'Italy': 'Rome', 'Japan': 'Tokyo', 'Russia': 'Moscow', 'Spain': 'Madrid', 'UK': 'London'}\n"
     ]
    }
   ],
   "source": [
    "# delete\n",
    "print(\"capital city: \", capital_city)\n",
    "del capital_city['Germany']\n",
    "print(\"capital ctty: \", capital_city)\n",
    "ret_val = capital_city.pop('Germany', 'Key not found')\n",
    "print(\"ret_val:\", ret_val)\n",
    "print(\"capital city: \", capital_city)\n",
    "capital_city['UK'] = \"London\"\n",
    "print(\"capital city: \", capital_city)"
   ]
  },
  {
   "cell_type": "code",
   "execution_count": 19,
   "id": "761ceb34",
   "metadata": {},
   "outputs": [
    {
     "name": "stdout",
     "output_type": "stream",
     "text": [
      "Capital of Spain is  Madrid\n",
      "Capital of Italy is  Rome\n",
      "dict_keys(['India', 'France', 'Italy', 'Japan', 'Russia', 'Spain', 'UK'])\n",
      "dict_values(['Delhi', 'Paris', 'Rome', 'Tokyo', 'Moscow', 'Madrid', 'London'])\n"
     ]
    }
   ],
   "source": [
    "# access\n",
    "print(\"Capital of Spain is \", capital_city['Spain'])\n",
    "print(\"Capital of Italy is \", capital_city['Italy'])\n",
    "# print(old_avengers['Quicksilver']) ## KeyError\n",
    "\n",
    "# keys\n",
    "print(capital_city.keys())\n",
    "print(capital_city.values())"
   ]
  },
  {
   "cell_type": "code",
   "execution_count": 20,
   "id": "64f4747f",
   "metadata": {},
   "outputs": [
    {
     "name": "stdout",
     "output_type": "stream",
     "text": [
      "\n",
      "Looping on keys\n",
      "India\n",
      "France\n",
      "Italy\n",
      "Japan\n",
      "Russia\n",
      "Spain\n",
      "UK\n",
      "\n",
      "Looping on values\n",
      "Delhi\n",
      "Paris\n",
      "Rome\n",
      "Tokyo\n",
      "Moscow\n",
      "Madrid\n",
      "London\n",
      "\n",
      "Looping with tuples\n",
      "India : Delhi\n",
      "France : Paris\n",
      "Italy : Rome\n",
      "Japan : Tokyo\n",
      "Russia : Moscow\n",
      "Spain : Madrid\n",
      "UK : London\n"
     ]
    }
   ],
   "source": [
    "# looping\n",
    "print(\"\\nLooping on keys\")\n",
    "for country in capital_city:\n",
    "    print(country)\n",
    "\n",
    "print(\"\\nLooping on values\")\n",
    "for city in capital_city.values():\n",
    "    print(city)\n",
    "\n",
    "print(\"\\nLooping with tuples\")\n",
    "for country, city in capital_city.items():\n",
    "    print(country, \":\", city)"
   ]
  },
  {
   "cell_type": "markdown",
   "id": "3b869e52",
   "metadata": {},
   "source": [
    "### e) Create a tuple and try and modify it; loop over a tuple; find min and max of a tuple"
   ]
  },
  {
   "cell_type": "code",
   "execution_count": 21,
   "id": "98f8d0ba",
   "metadata": {},
   "outputs": [
    {
     "name": "stdout",
     "output_type": "stream",
     "text": [
      "('Python', 'C++', 'Csharp', 'Java', 'JavaScript')\n"
     ]
    }
   ],
   "source": [
    "langs = ('Python', 'C++', 'Csharp', 'Java', 'JavaScript')\n",
    "print(langs)"
   ]
  },
  {
   "cell_type": "code",
   "execution_count": 22,
   "id": "ea45110d",
   "metadata": {},
   "outputs": [
    {
     "name": "stdout",
     "output_type": "stream",
     "text": [
      "<class 'tuple'>\n"
     ]
    }
   ],
   "source": [
    "print(type(langs))"
   ]
  },
  {
   "cell_type": "code",
   "execution_count": 23,
   "id": "d6e48c35",
   "metadata": {},
   "outputs": [
    {
     "name": "stdout",
     "output_type": "stream",
     "text": [
      "Python\n",
      "Java\n"
     ]
    }
   ],
   "source": [
    "print(langs[0])\n",
    "print(langs[3])"
   ]
  },
  {
   "cell_type": "code",
   "execution_count": 49,
   "id": "6a7fed92",
   "metadata": {},
   "outputs": [],
   "source": [
    "# heroes[2] = 'Falcon' ## TypeError"
   ]
  },
  {
   "cell_type": "code",
   "execution_count": 24,
   "id": "7b48a8be",
   "metadata": {},
   "outputs": [
    {
     "name": "stdout",
     "output_type": "stream",
     "text": [
      "Python\n",
      "C++\n",
      "Csharp\n",
      "Java\n",
      "JavaScript\n"
     ]
    }
   ],
   "source": [
    "for lang in langs:\n",
    "    print(lang)"
   ]
  },
  {
   "cell_type": "code",
   "execution_count": 25,
   "id": "4054bdc2",
   "metadata": {},
   "outputs": [
    {
     "name": "stdout",
     "output_type": "stream",
     "text": [
      "(54, 66, 59, 125, 8966, 458, 6325, 152)\n",
      "Min:  54\n",
      "Max:  8966\n"
     ]
    }
   ],
   "source": [
    "nums = (54, 66, 59, 125, 8966, 458, 6325, 152)\n",
    "print(nums)\n",
    "print(\"Min: \", min(nums))\n",
    "print(\"Max: \", max(nums))"
   ]
  },
  {
   "cell_type": "markdown",
   "id": "8250a0c8",
   "metadata": {},
   "source": [
    "### f) Write a python code to print all prime numbers in a user-defined range"
   ]
  },
  {
   "cell_type": "code",
   "execution_count": 26,
   "id": "4030b14c",
   "metadata": {},
   "outputs": [
    {
     "name": "stdout",
     "output_type": "stream",
     "text": [
      "Enter lower bound: 10\n",
      "Enter upper bound: 70\n",
      "11\n",
      "13\n",
      "17\n",
      "19\n",
      "23\n",
      "29\n",
      "31\n",
      "37\n",
      "41\n",
      "43\n",
      "47\n",
      "53\n",
      "59\n",
      "61\n",
      "67\n"
     ]
    }
   ],
   "source": [
    "# take range input from user\n",
    "lower_bound = int(input(\"Enter lower bound: \"))\n",
    "upper_bound = int(input(\"Enter upper bound: \"))\n",
    "\n",
    "def is_prime(num):\n",
    "    for i in range(2, num):\n",
    "        if num % i == 0:\n",
    "            return False\n",
    "    return True\n",
    "\n",
    "# loop over the range and find primes\n",
    "for n in range(lower_bound, upper_bound + 1):\n",
    "    if is_prime(n):\n",
    "        print(n)\n"
   ]
  }
 ],
 "metadata": {
  "kernelspec": {
   "display_name": "Python 3 (ipykernel)",
   "language": "python",
   "name": "python3"
  },
  "language_info": {
   "codemirror_mode": {
    "name": "ipython",
    "version": 3
   },
   "file_extension": ".py",
   "mimetype": "text/x-python",
   "name": "python",
   "nbconvert_exporter": "python",
   "pygments_lexer": "ipython3",
   "version": "3.9.13"
  }
 },
 "nbformat": 4,
 "nbformat_minor": 5
}
